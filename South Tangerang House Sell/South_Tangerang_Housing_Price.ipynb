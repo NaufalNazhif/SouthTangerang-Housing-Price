{
 "cells": [
  {
   "cell_type": "markdown",
   "id": "fea7e3f3",
   "metadata": {},
   "source": [
    "# Importing Library and Data"
   ]
  },
  {
   "cell_type": "code",
   "execution_count": 1,
   "id": "a4ecec96",
   "metadata": {},
   "outputs": [],
   "source": [
    "import pandas as pd\n",
    "import numpy as np\n",
    "import seaborn as sns\n",
    "import matplotlib.pyplot as plt"
   ]
  },
  {
   "cell_type": "code",
   "execution_count": 2,
   "id": "5b761656",
   "metadata": {},
   "outputs": [
    {
     "data": {
      "text/html": [
       "<div>\n",
       "<style scoped>\n",
       "    .dataframe tbody tr th:only-of-type {\n",
       "        vertical-align: middle;\n",
       "    }\n",
       "\n",
       "    .dataframe tbody tr th {\n",
       "        vertical-align: top;\n",
       "    }\n",
       "\n",
       "    .dataframe thead th {\n",
       "        text-align: right;\n",
       "    }\n",
       "</style>\n",
       "<table border=\"1\" class=\"dataframe\">\n",
       "  <thead>\n",
       "    <tr style=\"text-align: right;\">\n",
       "      <th></th>\n",
       "      <th>nav-link href</th>\n",
       "      <th>listing-location</th>\n",
       "      <th>price</th>\n",
       "      <th>bed</th>\n",
       "      <th>bath</th>\n",
       "      <th>listing-floorarea</th>\n",
       "      <th>listing-floorarea 2</th>\n",
       "    </tr>\n",
       "  </thead>\n",
       "  <tbody>\n",
       "    <tr>\n",
       "      <th>0</th>\n",
       "      <td>https://www.rumah.com/listing-properti/dijual-...</td>\n",
       "      <td>Gading Serpong, Tangerang Selatan, Banten</td>\n",
       "      <td>6,9 M</td>\n",
       "      <td>5.0</td>\n",
       "      <td>5.0</td>\n",
       "      <td>420 m²</td>\n",
       "      <td>Rp 20.720.721 per m²</td>\n",
       "    </tr>\n",
       "    <tr>\n",
       "      <th>1</th>\n",
       "      <td>https://www.rumah.com/listing-properti/dijual-...</td>\n",
       "      <td>Gading Serpong, Tangerang Selatan, Banten</td>\n",
       "      <td>4,5 M</td>\n",
       "      <td>3.0</td>\n",
       "      <td>3.0</td>\n",
       "      <td>190 m²</td>\n",
       "      <td>Rp 12.747.875 per m²</td>\n",
       "    </tr>\n",
       "    <tr>\n",
       "      <th>2</th>\n",
       "      <td>https://www.rumah.com/listing-properti/dijual-...</td>\n",
       "      <td>Gading Serpong, Tangerang Selatan, Banten</td>\n",
       "      <td>3,95 M</td>\n",
       "      <td>3.0</td>\n",
       "      <td>3.0</td>\n",
       "      <td>132 m²</td>\n",
       "      <td>Rp 30.859.375 per m²</td>\n",
       "    </tr>\n",
       "    <tr>\n",
       "      <th>3</th>\n",
       "      <td>https://www.rumah.com/listing-properti/dijual-...</td>\n",
       "      <td>Gading Serpong, Tangerang Selatan, Banten</td>\n",
       "      <td>3,3 M</td>\n",
       "      <td>4.0</td>\n",
       "      <td>3.0</td>\n",
       "      <td>220 m²</td>\n",
       "      <td>Rp 18.333.333 per m²</td>\n",
       "    </tr>\n",
       "    <tr>\n",
       "      <th>4</th>\n",
       "      <td>https://www.rumah.com/listing-properti/dijual-...</td>\n",
       "      <td>Gading Serpong, Tangerang Selatan, Banten</td>\n",
       "      <td>3,5 M</td>\n",
       "      <td>3.0</td>\n",
       "      <td>2.0</td>\n",
       "      <td>180 m²</td>\n",
       "      <td>Rp 27.777.778 per m²</td>\n",
       "    </tr>\n",
       "  </tbody>\n",
       "</table>\n",
       "</div>"
      ],
      "text/plain": [
       "                                       nav-link href  \\\n",
       "0  https://www.rumah.com/listing-properti/dijual-...   \n",
       "1  https://www.rumah.com/listing-properti/dijual-...   \n",
       "2  https://www.rumah.com/listing-properti/dijual-...   \n",
       "3  https://www.rumah.com/listing-properti/dijual-...   \n",
       "4  https://www.rumah.com/listing-properti/dijual-...   \n",
       "\n",
       "                            listing-location   price  bed  bath  \\\n",
       "0  Gading Serpong, Tangerang Selatan, Banten   6,9 M  5.0   5.0   \n",
       "1  Gading Serpong, Tangerang Selatan, Banten   4,5 M  3.0   3.0   \n",
       "2  Gading Serpong, Tangerang Selatan, Banten  3,95 M  3.0   3.0   \n",
       "3  Gading Serpong, Tangerang Selatan, Banten   3,3 M  4.0   3.0   \n",
       "4  Gading Serpong, Tangerang Selatan, Banten   3,5 M  3.0   2.0   \n",
       "\n",
       "  listing-floorarea   listing-floorarea 2  \n",
       "0            420 m²  Rp 20.720.721 per m²  \n",
       "1            190 m²  Rp 12.747.875 per m²  \n",
       "2            132 m²  Rp 30.859.375 per m²  \n",
       "3            220 m²  Rp 18.333.333 per m²  \n",
       "4            180 m²  Rp 27.777.778 per m²  "
      ]
     },
     "execution_count": 2,
     "metadata": {},
     "output_type": "execute_result"
    }
   ],
   "source": [
    "df = pd.read_csv('South_Tangerang_House_Price.csv', encoding='latin1')\n",
    "df.head()"
   ]
  },
  {
   "cell_type": "code",
   "execution_count": 3,
   "id": "e078fd53",
   "metadata": {},
   "outputs": [
    {
     "name": "stdout",
     "output_type": "stream",
     "text": [
      "<class 'pandas.core.frame.DataFrame'>\n",
      "RangeIndex: 29420 entries, 0 to 29419\n",
      "Data columns (total 7 columns):\n",
      " #   Column               Non-Null Count  Dtype  \n",
      "---  ------               --------------  -----  \n",
      " 0   nav-link href        29420 non-null  object \n",
      " 1   listing-location     29420 non-null  object \n",
      " 2   price                29420 non-null  object \n",
      " 3   bed                  29282 non-null  float64\n",
      " 4   bath                 29215 non-null  float64\n",
      " 5   listing-floorarea    29420 non-null  object \n",
      " 6   listing-floorarea 2  29383 non-null  object \n",
      "dtypes: float64(2), object(5)\n",
      "memory usage: 1.6+ MB\n"
     ]
    }
   ],
   "source": [
    "df.info()"
   ]
  },
  {
   "cell_type": "code",
   "execution_count": 4,
   "id": "6b6b8afc",
   "metadata": {},
   "outputs": [
    {
     "data": {
      "text/html": [
       "<div>\n",
       "<style scoped>\n",
       "    .dataframe tbody tr th:only-of-type {\n",
       "        vertical-align: middle;\n",
       "    }\n",
       "\n",
       "    .dataframe tbody tr th {\n",
       "        vertical-align: top;\n",
       "    }\n",
       "\n",
       "    .dataframe thead th {\n",
       "        text-align: right;\n",
       "    }\n",
       "</style>\n",
       "<table border=\"1\" class=\"dataframe\">\n",
       "  <thead>\n",
       "    <tr style=\"text-align: right;\">\n",
       "      <th></th>\n",
       "      <th>listing-location</th>\n",
       "      <th>price</th>\n",
       "      <th>bed</th>\n",
       "      <th>bath</th>\n",
       "      <th>listing-floorarea</th>\n",
       "      <th>listing-floorarea 2</th>\n",
       "    </tr>\n",
       "  </thead>\n",
       "  <tbody>\n",
       "    <tr>\n",
       "      <th>0</th>\n",
       "      <td>Gading Serpong, Tangerang Selatan, Banten</td>\n",
       "      <td>6,9 M</td>\n",
       "      <td>5.0</td>\n",
       "      <td>5.0</td>\n",
       "      <td>420 m²</td>\n",
       "      <td>Rp 20.720.721 per m²</td>\n",
       "    </tr>\n",
       "    <tr>\n",
       "      <th>1</th>\n",
       "      <td>Gading Serpong, Tangerang Selatan, Banten</td>\n",
       "      <td>4,5 M</td>\n",
       "      <td>3.0</td>\n",
       "      <td>3.0</td>\n",
       "      <td>190 m²</td>\n",
       "      <td>Rp 12.747.875 per m²</td>\n",
       "    </tr>\n",
       "    <tr>\n",
       "      <th>2</th>\n",
       "      <td>Gading Serpong, Tangerang Selatan, Banten</td>\n",
       "      <td>3,95 M</td>\n",
       "      <td>3.0</td>\n",
       "      <td>3.0</td>\n",
       "      <td>132 m²</td>\n",
       "      <td>Rp 30.859.375 per m²</td>\n",
       "    </tr>\n",
       "    <tr>\n",
       "      <th>3</th>\n",
       "      <td>Gading Serpong, Tangerang Selatan, Banten</td>\n",
       "      <td>3,3 M</td>\n",
       "      <td>4.0</td>\n",
       "      <td>3.0</td>\n",
       "      <td>220 m²</td>\n",
       "      <td>Rp 18.333.333 per m²</td>\n",
       "    </tr>\n",
       "    <tr>\n",
       "      <th>4</th>\n",
       "      <td>Gading Serpong, Tangerang Selatan, Banten</td>\n",
       "      <td>3,5 M</td>\n",
       "      <td>3.0</td>\n",
       "      <td>2.0</td>\n",
       "      <td>180 m²</td>\n",
       "      <td>Rp 27.777.778 per m²</td>\n",
       "    </tr>\n",
       "    <tr>\n",
       "      <th>...</th>\n",
       "      <td>...</td>\n",
       "      <td>...</td>\n",
       "      <td>...</td>\n",
       "      <td>...</td>\n",
       "      <td>...</td>\n",
       "      <td>...</td>\n",
       "    </tr>\n",
       "    <tr>\n",
       "      <th>29415</th>\n",
       "      <td>Bintaro, Tangerang Selatan, Banten</td>\n",
       "      <td>3,3 M</td>\n",
       "      <td>3.0</td>\n",
       "      <td>3.0</td>\n",
       "      <td>300 m²</td>\n",
       "      <td>Rp 21.710.526 per m²</td>\n",
       "    </tr>\n",
       "    <tr>\n",
       "      <th>29416</th>\n",
       "      <td>Bintaro, Tangerang Selatan, Banten</td>\n",
       "      <td>4 M</td>\n",
       "      <td>8.0</td>\n",
       "      <td>4.0</td>\n",
       "      <td>330 m²</td>\n",
       "      <td>Rp 36.363.636 per m²</td>\n",
       "    </tr>\n",
       "    <tr>\n",
       "      <th>29417</th>\n",
       "      <td>Bintaro, Tangerang Selatan, Banten</td>\n",
       "      <td>2,2 M</td>\n",
       "      <td>3.0</td>\n",
       "      <td>2.0</td>\n",
       "      <td>160 m²</td>\n",
       "      <td>Rp 18.333.333 per m²</td>\n",
       "    </tr>\n",
       "    <tr>\n",
       "      <th>29418</th>\n",
       "      <td>Bintaro, Tangerang Selatan, Banten</td>\n",
       "      <td>1,95 M</td>\n",
       "      <td>3.0</td>\n",
       "      <td>2.0</td>\n",
       "      <td>120 m²</td>\n",
       "      <td>Rp 21.666.667 per m²</td>\n",
       "    </tr>\n",
       "    <tr>\n",
       "      <th>29419</th>\n",
       "      <td>Bintaro, Tangerang Selatan, Banten</td>\n",
       "      <td>5,5 M</td>\n",
       "      <td>4.0</td>\n",
       "      <td>3.0</td>\n",
       "      <td>200 m²</td>\n",
       "      <td>Rp 30.555.556 per m²</td>\n",
       "    </tr>\n",
       "  </tbody>\n",
       "</table>\n",
       "<p>29420 rows × 6 columns</p>\n",
       "</div>"
      ],
      "text/plain": [
       "                                listing-location   price  bed  bath  \\\n",
       "0      Gading Serpong, Tangerang Selatan, Banten   6,9 M  5.0   5.0   \n",
       "1      Gading Serpong, Tangerang Selatan, Banten   4,5 M  3.0   3.0   \n",
       "2      Gading Serpong, Tangerang Selatan, Banten  3,95 M  3.0   3.0   \n",
       "3      Gading Serpong, Tangerang Selatan, Banten   3,3 M  4.0   3.0   \n",
       "4      Gading Serpong, Tangerang Selatan, Banten   3,5 M  3.0   2.0   \n",
       "...                                          ...     ...  ...   ...   \n",
       "29415         Bintaro, Tangerang Selatan, Banten   3,3 M  3.0   3.0   \n",
       "29416         Bintaro, Tangerang Selatan, Banten     4 M  8.0   4.0   \n",
       "29417         Bintaro, Tangerang Selatan, Banten   2,2 M  3.0   2.0   \n",
       "29418         Bintaro, Tangerang Selatan, Banten  1,95 M  3.0   2.0   \n",
       "29419         Bintaro, Tangerang Selatan, Banten   5,5 M  4.0   3.0   \n",
       "\n",
       "      listing-floorarea   listing-floorarea 2  \n",
       "0                420 m²  Rp 20.720.721 per m²  \n",
       "1                190 m²  Rp 12.747.875 per m²  \n",
       "2                132 m²  Rp 30.859.375 per m²  \n",
       "3                220 m²  Rp 18.333.333 per m²  \n",
       "4                180 m²  Rp 27.777.778 per m²  \n",
       "...                 ...                   ...  \n",
       "29415            300 m²  Rp 21.710.526 per m²  \n",
       "29416            330 m²  Rp 36.363.636 per m²  \n",
       "29417            160 m²  Rp 18.333.333 per m²  \n",
       "29418            120 m²  Rp 21.666.667 per m²  \n",
       "29419            200 m²  Rp 30.555.556 per m²  \n",
       "\n",
       "[29420 rows x 6 columns]"
      ]
     },
     "execution_count": 4,
     "metadata": {},
     "output_type": "execute_result"
    }
   ],
   "source": [
    "df = df.drop(columns='nav-link href')\n",
    "df"
   ]
  },
  {
   "cell_type": "code",
   "execution_count": 5,
   "id": "2c79fca8",
   "metadata": {},
   "outputs": [],
   "source": [
    "df = df.rename(columns={'listing-location' : 'Location', 'price' : 'Price', 'bed' : 'Bedroom', 'bath' : 'Bathroom', \n",
    "                        'listing-floorarea' : 'Floor_Area(m2)', 'listing-floorarea 2' : 'Floor_Area_Price'})"
   ]
  },
  {
   "cell_type": "markdown",
   "id": "976e2282",
   "metadata": {},
   "source": [
    "# Data Cleaning & Transform"
   ]
  },
  {
   "cell_type": "markdown",
   "id": "52327148",
   "metadata": {},
   "source": [
    "**Dropping All The Null Values**"
   ]
  },
  {
   "cell_type": "code",
   "execution_count": 6,
   "id": "9f0bfa16",
   "metadata": {},
   "outputs": [
    {
     "data": {
      "text/plain": [
       "Location              0\n",
       "Price                 0\n",
       "Bedroom             138\n",
       "Bathroom            205\n",
       "Floor_Area(m2)        0\n",
       "Floor_Area_Price     37\n",
       "dtype: int64"
      ]
     },
     "execution_count": 6,
     "metadata": {},
     "output_type": "execute_result"
    }
   ],
   "source": [
    "df.isna().sum()"
   ]
  },
  {
   "cell_type": "code",
   "execution_count": 7,
   "id": "4bf9c0a9",
   "metadata": {},
   "outputs": [],
   "source": [
    "df = df.dropna()"
   ]
  },
  {
   "cell_type": "code",
   "execution_count": 8,
   "id": "8da71272",
   "metadata": {},
   "outputs": [
    {
     "data": {
      "text/plain": [
       "(29180, 6)"
      ]
     },
     "execution_count": 8,
     "metadata": {},
     "output_type": "execute_result"
    }
   ],
   "source": [
    "df.shape"
   ]
  },
  {
   "cell_type": "markdown",
   "id": "d59671f1",
   "metadata": {},
   "source": [
    "**1. Location**"
   ]
  },
  {
   "cell_type": "markdown",
   "id": "de8c1949",
   "metadata": {},
   "source": [
    "**1.1** Fixing Region"
   ]
  },
  {
   "cell_type": "code",
   "execution_count": 9,
   "id": "6f3c7469",
   "metadata": {},
   "outputs": [
    {
     "data": {
      "text/html": [
       "<div>\n",
       "<style scoped>\n",
       "    .dataframe tbody tr th:only-of-type {\n",
       "        vertical-align: middle;\n",
       "    }\n",
       "\n",
       "    .dataframe tbody tr th {\n",
       "        vertical-align: top;\n",
       "    }\n",
       "\n",
       "    .dataframe thead th {\n",
       "        text-align: right;\n",
       "    }\n",
       "</style>\n",
       "<table border=\"1\" class=\"dataframe\">\n",
       "  <thead>\n",
       "    <tr style=\"text-align: right;\">\n",
       "      <th></th>\n",
       "      <th>0</th>\n",
       "      <th>1</th>\n",
       "      <th>2</th>\n",
       "    </tr>\n",
       "  </thead>\n",
       "  <tbody>\n",
       "    <tr>\n",
       "      <th>0</th>\n",
       "      <td>Gading Serpong</td>\n",
       "      <td>Tangerang Selatan</td>\n",
       "      <td>Banten</td>\n",
       "    </tr>\n",
       "    <tr>\n",
       "      <th>1</th>\n",
       "      <td>Gading Serpong</td>\n",
       "      <td>Tangerang Selatan</td>\n",
       "      <td>Banten</td>\n",
       "    </tr>\n",
       "    <tr>\n",
       "      <th>2</th>\n",
       "      <td>Gading Serpong</td>\n",
       "      <td>Tangerang Selatan</td>\n",
       "      <td>Banten</td>\n",
       "    </tr>\n",
       "    <tr>\n",
       "      <th>3</th>\n",
       "      <td>Gading Serpong</td>\n",
       "      <td>Tangerang Selatan</td>\n",
       "      <td>Banten</td>\n",
       "    </tr>\n",
       "    <tr>\n",
       "      <th>4</th>\n",
       "      <td>Gading Serpong</td>\n",
       "      <td>Tangerang Selatan</td>\n",
       "      <td>Banten</td>\n",
       "    </tr>\n",
       "    <tr>\n",
       "      <th>...</th>\n",
       "      <td>...</td>\n",
       "      <td>...</td>\n",
       "      <td>...</td>\n",
       "    </tr>\n",
       "    <tr>\n",
       "      <th>29415</th>\n",
       "      <td>Bintaro</td>\n",
       "      <td>Tangerang Selatan</td>\n",
       "      <td>Banten</td>\n",
       "    </tr>\n",
       "    <tr>\n",
       "      <th>29416</th>\n",
       "      <td>Bintaro</td>\n",
       "      <td>Tangerang Selatan</td>\n",
       "      <td>Banten</td>\n",
       "    </tr>\n",
       "    <tr>\n",
       "      <th>29417</th>\n",
       "      <td>Bintaro</td>\n",
       "      <td>Tangerang Selatan</td>\n",
       "      <td>Banten</td>\n",
       "    </tr>\n",
       "    <tr>\n",
       "      <th>29418</th>\n",
       "      <td>Bintaro</td>\n",
       "      <td>Tangerang Selatan</td>\n",
       "      <td>Banten</td>\n",
       "    </tr>\n",
       "    <tr>\n",
       "      <th>29419</th>\n",
       "      <td>Bintaro</td>\n",
       "      <td>Tangerang Selatan</td>\n",
       "      <td>Banten</td>\n",
       "    </tr>\n",
       "  </tbody>\n",
       "</table>\n",
       "<p>29180 rows × 3 columns</p>\n",
       "</div>"
      ],
      "text/plain": [
       "                    0                   1        2\n",
       "0      Gading Serpong   Tangerang Selatan   Banten\n",
       "1      Gading Serpong   Tangerang Selatan   Banten\n",
       "2      Gading Serpong   Tangerang Selatan   Banten\n",
       "3      Gading Serpong   Tangerang Selatan   Banten\n",
       "4      Gading Serpong   Tangerang Selatan   Banten\n",
       "...               ...                 ...      ...\n",
       "29415         Bintaro   Tangerang Selatan   Banten\n",
       "29416         Bintaro   Tangerang Selatan   Banten\n",
       "29417         Bintaro   Tangerang Selatan   Banten\n",
       "29418         Bintaro   Tangerang Selatan   Banten\n",
       "29419         Bintaro   Tangerang Selatan   Banten\n",
       "\n",
       "[29180 rows x 3 columns]"
      ]
     },
     "execution_count": 9,
     "metadata": {},
     "output_type": "execute_result"
    }
   ],
   "source": [
    "## I notice that the Location isn't in the same format. It Looks like Region, City, Province.\n",
    "## But in the middle of data there are some rows that contain the street name, etc.\n",
    "## So Before drop the duplicates, i want to fix it first\n",
    "\n",
    "df['Location'].str.rsplit(',', n=2, expand=True)"
   ]
  },
  {
   "cell_type": "code",
   "execution_count": 10,
   "id": "fcaa5186",
   "metadata": {},
   "outputs": [],
   "source": [
    "df['Region'] = df['Location'].str.rsplit(',', 2).str[0]\n",
    "df['City'] = df['Location'].str.rsplit(',', 2).str[1]\n",
    "df['Province'] = df['Location'].str.rsplit(',', 2).str[2]"
   ]
  },
  {
   "cell_type": "code",
   "execution_count": 11,
   "id": "187ec191",
   "metadata": {},
   "outputs": [
    {
     "data": {
      "text/html": [
       "<div>\n",
       "<style scoped>\n",
       "    .dataframe tbody tr th:only-of-type {\n",
       "        vertical-align: middle;\n",
       "    }\n",
       "\n",
       "    .dataframe tbody tr th {\n",
       "        vertical-align: top;\n",
       "    }\n",
       "\n",
       "    .dataframe thead th {\n",
       "        text-align: right;\n",
       "    }\n",
       "</style>\n",
       "<table border=\"1\" class=\"dataframe\">\n",
       "  <thead>\n",
       "    <tr style=\"text-align: right;\">\n",
       "      <th></th>\n",
       "      <th>Location</th>\n",
       "      <th>Price</th>\n",
       "      <th>Bedroom</th>\n",
       "      <th>Bathroom</th>\n",
       "      <th>Floor_Area(m2)</th>\n",
       "      <th>Floor_Area_Price</th>\n",
       "      <th>Region</th>\n",
       "      <th>City</th>\n",
       "      <th>Province</th>\n",
       "    </tr>\n",
       "  </thead>\n",
       "  <tbody>\n",
       "    <tr>\n",
       "      <th>0</th>\n",
       "      <td>Gading Serpong, Tangerang Selatan, Banten</td>\n",
       "      <td>6,9 M</td>\n",
       "      <td>5.0</td>\n",
       "      <td>5.0</td>\n",
       "      <td>420 m²</td>\n",
       "      <td>Rp 20.720.721 per m²</td>\n",
       "      <td>Gading Serpong</td>\n",
       "      <td>Tangerang Selatan</td>\n",
       "      <td>Banten</td>\n",
       "    </tr>\n",
       "    <tr>\n",
       "      <th>1</th>\n",
       "      <td>Gading Serpong, Tangerang Selatan, Banten</td>\n",
       "      <td>4,5 M</td>\n",
       "      <td>3.0</td>\n",
       "      <td>3.0</td>\n",
       "      <td>190 m²</td>\n",
       "      <td>Rp 12.747.875 per m²</td>\n",
       "      <td>Gading Serpong</td>\n",
       "      <td>Tangerang Selatan</td>\n",
       "      <td>Banten</td>\n",
       "    </tr>\n",
       "    <tr>\n",
       "      <th>2</th>\n",
       "      <td>Gading Serpong, Tangerang Selatan, Banten</td>\n",
       "      <td>3,95 M</td>\n",
       "      <td>3.0</td>\n",
       "      <td>3.0</td>\n",
       "      <td>132 m²</td>\n",
       "      <td>Rp 30.859.375 per m²</td>\n",
       "      <td>Gading Serpong</td>\n",
       "      <td>Tangerang Selatan</td>\n",
       "      <td>Banten</td>\n",
       "    </tr>\n",
       "    <tr>\n",
       "      <th>3</th>\n",
       "      <td>Gading Serpong, Tangerang Selatan, Banten</td>\n",
       "      <td>3,3 M</td>\n",
       "      <td>4.0</td>\n",
       "      <td>3.0</td>\n",
       "      <td>220 m²</td>\n",
       "      <td>Rp 18.333.333 per m²</td>\n",
       "      <td>Gading Serpong</td>\n",
       "      <td>Tangerang Selatan</td>\n",
       "      <td>Banten</td>\n",
       "    </tr>\n",
       "    <tr>\n",
       "      <th>4</th>\n",
       "      <td>Gading Serpong, Tangerang Selatan, Banten</td>\n",
       "      <td>3,5 M</td>\n",
       "      <td>3.0</td>\n",
       "      <td>2.0</td>\n",
       "      <td>180 m²</td>\n",
       "      <td>Rp 27.777.778 per m²</td>\n",
       "      <td>Gading Serpong</td>\n",
       "      <td>Tangerang Selatan</td>\n",
       "      <td>Banten</td>\n",
       "    </tr>\n",
       "  </tbody>\n",
       "</table>\n",
       "</div>"
      ],
      "text/plain": [
       "                                    Location   Price  Bedroom  Bathroom  \\\n",
       "0  Gading Serpong, Tangerang Selatan, Banten   6,9 M      5.0       5.0   \n",
       "1  Gading Serpong, Tangerang Selatan, Banten   4,5 M      3.0       3.0   \n",
       "2  Gading Serpong, Tangerang Selatan, Banten  3,95 M      3.0       3.0   \n",
       "3  Gading Serpong, Tangerang Selatan, Banten   3,3 M      4.0       3.0   \n",
       "4  Gading Serpong, Tangerang Selatan, Banten   3,5 M      3.0       2.0   \n",
       "\n",
       "  Floor_Area(m2)      Floor_Area_Price          Region                City  \\\n",
       "0         420 m²  Rp 20.720.721 per m²  Gading Serpong   Tangerang Selatan   \n",
       "1         190 m²  Rp 12.747.875 per m²  Gading Serpong   Tangerang Selatan   \n",
       "2         132 m²  Rp 30.859.375 per m²  Gading Serpong   Tangerang Selatan   \n",
       "3         220 m²  Rp 18.333.333 per m²  Gading Serpong   Tangerang Selatan   \n",
       "4         180 m²  Rp 27.777.778 per m²  Gading Serpong   Tangerang Selatan   \n",
       "\n",
       "  Province  \n",
       "0   Banten  \n",
       "1   Banten  \n",
       "2   Banten  \n",
       "3   Banten  \n",
       "4   Banten  "
      ]
     },
     "execution_count": 11,
     "metadata": {},
     "output_type": "execute_result"
    }
   ],
   "source": [
    "df.head()"
   ]
  },
  {
   "cell_type": "code",
   "execution_count": 12,
   "id": "68b99df5",
   "metadata": {},
   "outputs": [
    {
     "data": {
      "text/plain": [
       "array(['Gading Serpong', 'BSD', 'Jalan cempaka, Bintaro', ...,\n",
       "       'Jl. Gardenia , Paku Jaya, Bintaro',\n",
       "       'Ciputat Cinangka Bojongsari Pondok Cabe Depok, Ciputat Timur',\n",
       "       'Cluster Mozart, Jl. Mozart Selatan 2, Banten 15334, BSD'],\n",
       "      dtype=object)"
      ]
     },
     "execution_count": 12,
     "metadata": {},
     "output_type": "execute_result"
    }
   ],
   "source": [
    "df['Region'].unique()\n",
    "\n",
    "## You can see the result. It Should Be just the Region like 'Bintaro', 'Gading Serpong', etc\n",
    "## But there are some street name include in the location"
   ]
  },
  {
   "cell_type": "code",
   "execution_count": 13,
   "id": "c8f4b5b7",
   "metadata": {},
   "outputs": [
    {
     "data": {
      "text/html": [
       "<div>\n",
       "<style scoped>\n",
       "    .dataframe tbody tr th:only-of-type {\n",
       "        vertical-align: middle;\n",
       "    }\n",
       "\n",
       "    .dataframe tbody tr th {\n",
       "        vertical-align: top;\n",
       "    }\n",
       "\n",
       "    .dataframe thead th {\n",
       "        text-align: right;\n",
       "    }\n",
       "</style>\n",
       "<table border=\"1\" class=\"dataframe\">\n",
       "  <thead>\n",
       "    <tr style=\"text-align: right;\">\n",
       "      <th></th>\n",
       "      <th>0</th>\n",
       "      <th>1</th>\n",
       "      <th>2</th>\n",
       "      <th>3</th>\n",
       "      <th>4</th>\n",
       "      <th>5</th>\n",
       "    </tr>\n",
       "  </thead>\n",
       "  <tbody>\n",
       "    <tr>\n",
       "      <th>0</th>\n",
       "      <td>Gading Serpong</td>\n",
       "      <td>None</td>\n",
       "      <td>None</td>\n",
       "      <td>None</td>\n",
       "      <td>None</td>\n",
       "      <td>None</td>\n",
       "    </tr>\n",
       "    <tr>\n",
       "      <th>1</th>\n",
       "      <td>Gading Serpong</td>\n",
       "      <td>None</td>\n",
       "      <td>None</td>\n",
       "      <td>None</td>\n",
       "      <td>None</td>\n",
       "      <td>None</td>\n",
       "    </tr>\n",
       "    <tr>\n",
       "      <th>2</th>\n",
       "      <td>Gading Serpong</td>\n",
       "      <td>None</td>\n",
       "      <td>None</td>\n",
       "      <td>None</td>\n",
       "      <td>None</td>\n",
       "      <td>None</td>\n",
       "    </tr>\n",
       "    <tr>\n",
       "      <th>3</th>\n",
       "      <td>Gading Serpong</td>\n",
       "      <td>None</td>\n",
       "      <td>None</td>\n",
       "      <td>None</td>\n",
       "      <td>None</td>\n",
       "      <td>None</td>\n",
       "    </tr>\n",
       "    <tr>\n",
       "      <th>4</th>\n",
       "      <td>Gading Serpong</td>\n",
       "      <td>None</td>\n",
       "      <td>None</td>\n",
       "      <td>None</td>\n",
       "      <td>None</td>\n",
       "      <td>None</td>\n",
       "    </tr>\n",
       "    <tr>\n",
       "      <th>...</th>\n",
       "      <td>...</td>\n",
       "      <td>...</td>\n",
       "      <td>...</td>\n",
       "      <td>...</td>\n",
       "      <td>...</td>\n",
       "      <td>...</td>\n",
       "    </tr>\n",
       "    <tr>\n",
       "      <th>29415</th>\n",
       "      <td>Bintaro</td>\n",
       "      <td>None</td>\n",
       "      <td>None</td>\n",
       "      <td>None</td>\n",
       "      <td>None</td>\n",
       "      <td>None</td>\n",
       "    </tr>\n",
       "    <tr>\n",
       "      <th>29416</th>\n",
       "      <td>Bintaro</td>\n",
       "      <td>None</td>\n",
       "      <td>None</td>\n",
       "      <td>None</td>\n",
       "      <td>None</td>\n",
       "      <td>None</td>\n",
       "    </tr>\n",
       "    <tr>\n",
       "      <th>29417</th>\n",
       "      <td>Bintaro</td>\n",
       "      <td>None</td>\n",
       "      <td>None</td>\n",
       "      <td>None</td>\n",
       "      <td>None</td>\n",
       "      <td>None</td>\n",
       "    </tr>\n",
       "    <tr>\n",
       "      <th>29418</th>\n",
       "      <td>Bintaro</td>\n",
       "      <td>None</td>\n",
       "      <td>None</td>\n",
       "      <td>None</td>\n",
       "      <td>None</td>\n",
       "      <td>None</td>\n",
       "    </tr>\n",
       "    <tr>\n",
       "      <th>29419</th>\n",
       "      <td>Bintaro</td>\n",
       "      <td>None</td>\n",
       "      <td>None</td>\n",
       "      <td>None</td>\n",
       "      <td>None</td>\n",
       "      <td>None</td>\n",
       "    </tr>\n",
       "  </tbody>\n",
       "</table>\n",
       "<p>29180 rows × 6 columns</p>\n",
       "</div>"
      ],
      "text/plain": [
       "                    0     1     2     3     4     5\n",
       "0      Gading Serpong  None  None  None  None  None\n",
       "1      Gading Serpong  None  None  None  None  None\n",
       "2      Gading Serpong  None  None  None  None  None\n",
       "3      Gading Serpong  None  None  None  None  None\n",
       "4      Gading Serpong  None  None  None  None  None\n",
       "...               ...   ...   ...   ...   ...   ...\n",
       "29415         Bintaro  None  None  None  None  None\n",
       "29416         Bintaro  None  None  None  None  None\n",
       "29417         Bintaro  None  None  None  None  None\n",
       "29418         Bintaro  None  None  None  None  None\n",
       "29419         Bintaro  None  None  None  None  None\n",
       "\n",
       "[29180 rows x 6 columns]"
      ]
     },
     "execution_count": 13,
     "metadata": {},
     "output_type": "execute_result"
    }
   ],
   "source": [
    "region_fix = df['Region'].str.rsplit(',', n=0, expand=True)\n",
    "region_fix"
   ]
  },
  {
   "cell_type": "code",
   "execution_count": 14,
   "id": "7ac0411f",
   "metadata": {},
   "outputs": [],
   "source": [
    "region_fix = region_fix.fillna(method = 'pad', axis=1)"
   ]
  },
  {
   "cell_type": "code",
   "execution_count": 15,
   "id": "a65cac38",
   "metadata": {},
   "outputs": [
    {
     "data": {
      "text/plain": [
       "array(['Gading Serpong', 'BSD', ' Bintaro', 'Alam Sutera',\n",
       "       ' Gading Serpong', 'Bintaro', 'Serpong', ' Serpong Utara', ' BSD',\n",
       "       ' Pamulang', ' Serpong', ' Pondok Aren', 'Ciputat Timur',\n",
       "       'Ciputat', ' Ciputat', ' Ciputat Timur', 'Serpong Utara',\n",
       "       'Pamulang', 'Pondok Aren', ' Alam Sutera', ' Ciledug', ' Setu',\n",
       "       'Setu', ' Pagedangan', ' Cinere', ' Bsd', ' Serua', ' Larangan'],\n",
       "      dtype=object)"
      ]
     },
     "execution_count": 15,
     "metadata": {},
     "output_type": "execute_result"
    }
   ],
   "source": [
    "region_fix[5].unique()\n",
    "\n",
    "## There are 'BSD' and 'Bsd' which is the same"
   ]
  },
  {
   "cell_type": "code",
   "execution_count": 16,
   "id": "1d9de8ed",
   "metadata": {},
   "outputs": [],
   "source": [
    "region_fix[5] = region_fix[5].str.replace('Bsd', 'BSD')"
   ]
  },
  {
   "cell_type": "code",
   "execution_count": 17,
   "id": "e56a045e",
   "metadata": {},
   "outputs": [],
   "source": [
    "df['Region'] = region_fix[5]"
   ]
  },
  {
   "cell_type": "markdown",
   "id": "617e74e7",
   "metadata": {},
   "source": [
    "**1.2** Remove Left Space"
   ]
  },
  {
   "cell_type": "markdown",
   "id": "55b8f5b4",
   "metadata": {},
   "source": [
    "I notice that region, city and province have left space.\n",
    "So i need to fix that"
   ]
  },
  {
   "cell_type": "code",
   "execution_count": 18,
   "id": "2b6ecbe0",
   "metadata": {},
   "outputs": [],
   "source": [
    "df['Region'] = df['Region'].str.lstrip()\n",
    "df['City'] = df['City'].str.lstrip()\n",
    "df['Province'] = df['Province'].str.lstrip()"
   ]
  },
  {
   "cell_type": "code",
   "execution_count": 19,
   "id": "90353e49",
   "metadata": {},
   "outputs": [
    {
     "data": {
      "text/plain": [
       "array(['Gading Serpong', 'BSD', 'Bintaro', 'Alam Sutera', 'Serpong',\n",
       "       'Serpong Utara', 'Pamulang', 'Pondok Aren', 'Ciputat Timur',\n",
       "       'Ciputat', 'Ciledug', 'Setu', 'Pagedangan', 'Cinere', 'Serua',\n",
       "       'Larangan'], dtype=object)"
      ]
     },
     "execution_count": 19,
     "metadata": {},
     "output_type": "execute_result"
    }
   ],
   "source": [
    "df['Region'].unique()"
   ]
  },
  {
   "cell_type": "code",
   "execution_count": 20,
   "id": "7d720259",
   "metadata": {},
   "outputs": [
    {
     "data": {
      "text/plain": [
       "array(['Tangerang Selatan'], dtype=object)"
      ]
     },
     "execution_count": 20,
     "metadata": {},
     "output_type": "execute_result"
    }
   ],
   "source": [
    "df['City'].unique()"
   ]
  },
  {
   "cell_type": "code",
   "execution_count": 21,
   "id": "281a63b0",
   "metadata": {},
   "outputs": [
    {
     "data": {
      "text/plain": [
       "array(['Banten'], dtype=object)"
      ]
     },
     "execution_count": 21,
     "metadata": {},
     "output_type": "execute_result"
    }
   ],
   "source": [
    "df['Province'].unique()"
   ]
  },
  {
   "cell_type": "markdown",
   "id": "cf94cf5f",
   "metadata": {},
   "source": [
    "**2. Price**"
   ]
  },
  {
   "cell_type": "code",
   "execution_count": 22,
   "id": "36419180",
   "metadata": {},
   "outputs": [],
   "source": [
    "## The Price in Indonesia Rupiah (IDR), but the function can't convert Indonesia Unit\n",
    "## So we need to change it into universal unit format\n",
    "\n",
    "df['Price'] = df['Price'].str.replace(' M', 'B')\n",
    "df['Price'] = df['Price'].str.replace(' jt', 'M')\n",
    "df['Price'] = df['Price'].str.replace(' rb', 'K')\n",
    "df['Price'] = df['Price'].str.replace(',', '.')"
   ]
  },
  {
   "cell_type": "code",
   "execution_count": 23,
   "id": "e34b3caf",
   "metadata": {},
   "outputs": [],
   "source": [
    "df['Price'] = df['Price'].replace({'B':'*1e9', 'M':'*1e6', 'K':'*1e3'}, regex=True).map(pd.eval).astype('int64')"
   ]
  },
  {
   "cell_type": "code",
   "execution_count": 24,
   "id": "ac3a3907",
   "metadata": {},
   "outputs": [
    {
     "data": {
      "text/plain": [
       "0        6900000000\n",
       "1        4500000000\n",
       "2        3950000000\n",
       "3        3300000000\n",
       "4        3500000000\n",
       "            ...    \n",
       "29415    3300000000\n",
       "29416    4000000000\n",
       "29417    2200000000\n",
       "29418    1950000000\n",
       "29419    5500000000\n",
       "Name: Price, Length: 29180, dtype: int64"
      ]
     },
     "execution_count": 24,
     "metadata": {},
     "output_type": "execute_result"
    }
   ],
   "source": [
    "df['Price']"
   ]
  },
  {
   "cell_type": "markdown",
   "id": "52515708",
   "metadata": {},
   "source": [
    "**3. Floor Area**"
   ]
  },
  {
   "cell_type": "code",
   "execution_count": 25,
   "id": "1e317f23",
   "metadata": {},
   "outputs": [],
   "source": [
    "df['Floor_Area(m2)'] = df['Floor_Area(m2)'].str.replace('m²','')"
   ]
  },
  {
   "cell_type": "markdown",
   "id": "ac88194b",
   "metadata": {},
   "source": [
    "**4. Floor Area Price**"
   ]
  },
  {
   "cell_type": "code",
   "execution_count": 26,
   "id": "21c27699",
   "metadata": {},
   "outputs": [
    {
     "name": "stderr",
     "output_type": "stream",
     "text": [
      "C:\\Users\\ASUS\\AppData\\Local\\Temp\\ipykernel_4404\\1627368446.py:4: FutureWarning: The default value of regex will change from True to False in a future version. In addition, single character regular expressions will *not* be treated as literal strings when regex=True.\n",
      "  df['Floor_Area_Price'] = df['Floor_Area_Price'].str.replace('.','')\n"
     ]
    }
   ],
   "source": [
    "df['Floor_Area_Price'] = df['Floor_Area_Price'].str.replace('m²','')\n",
    "df['Floor_Area_Price'] = df['Floor_Area_Price'].str.replace('per','')\n",
    "df['Floor_Area_Price'] = df['Floor_Area_Price'].str.replace('Rp','')\n",
    "df['Floor_Area_Price'] = df['Floor_Area_Price'].str.replace('.','')"
   ]
  },
  {
   "cell_type": "code",
   "execution_count": 27,
   "id": "d77d8e21",
   "metadata": {},
   "outputs": [
    {
     "data": {
      "text/plain": [
       "0         20720721  \n",
       "1         12747875  \n",
       "2         30859375  \n",
       "3         18333333  \n",
       "4         27777778  \n",
       "            ...     \n",
       "29415     21710526  \n",
       "29416     36363636  \n",
       "29417     18333333  \n",
       "29418     21666667  \n",
       "29419     30555556  \n",
       "Name: Floor_Area_Price, Length: 29180, dtype: object"
      ]
     },
     "execution_count": 27,
     "metadata": {},
     "output_type": "execute_result"
    }
   ],
   "source": [
    "df['Floor_Area_Price']"
   ]
  },
  {
   "cell_type": "markdown",
   "id": "54cef71e",
   "metadata": {},
   "source": [
    "**5. Rearrange The Columns**"
   ]
  },
  {
   "cell_type": "code",
   "execution_count": 28,
   "id": "7492860e",
   "metadata": {},
   "outputs": [
    {
     "data": {
      "text/html": [
       "<div>\n",
       "<style scoped>\n",
       "    .dataframe tbody tr th:only-of-type {\n",
       "        vertical-align: middle;\n",
       "    }\n",
       "\n",
       "    .dataframe tbody tr th {\n",
       "        vertical-align: top;\n",
       "    }\n",
       "\n",
       "    .dataframe thead th {\n",
       "        text-align: right;\n",
       "    }\n",
       "</style>\n",
       "<table border=\"1\" class=\"dataframe\">\n",
       "  <thead>\n",
       "    <tr style=\"text-align: right;\">\n",
       "      <th></th>\n",
       "      <th>Location</th>\n",
       "      <th>Price</th>\n",
       "      <th>Bedroom</th>\n",
       "      <th>Bathroom</th>\n",
       "      <th>Floor_Area(m2)</th>\n",
       "      <th>Floor_Area_Price</th>\n",
       "      <th>Region</th>\n",
       "      <th>City</th>\n",
       "      <th>Province</th>\n",
       "    </tr>\n",
       "  </thead>\n",
       "  <tbody>\n",
       "    <tr>\n",
       "      <th>0</th>\n",
       "      <td>Gading Serpong, Tangerang Selatan, Banten</td>\n",
       "      <td>6900000000</td>\n",
       "      <td>5.0</td>\n",
       "      <td>5.0</td>\n",
       "      <td>420</td>\n",
       "      <td>20720721</td>\n",
       "      <td>Gading Serpong</td>\n",
       "      <td>Tangerang Selatan</td>\n",
       "      <td>Banten</td>\n",
       "    </tr>\n",
       "    <tr>\n",
       "      <th>1</th>\n",
       "      <td>Gading Serpong, Tangerang Selatan, Banten</td>\n",
       "      <td>4500000000</td>\n",
       "      <td>3.0</td>\n",
       "      <td>3.0</td>\n",
       "      <td>190</td>\n",
       "      <td>12747875</td>\n",
       "      <td>Gading Serpong</td>\n",
       "      <td>Tangerang Selatan</td>\n",
       "      <td>Banten</td>\n",
       "    </tr>\n",
       "    <tr>\n",
       "      <th>2</th>\n",
       "      <td>Gading Serpong, Tangerang Selatan, Banten</td>\n",
       "      <td>3950000000</td>\n",
       "      <td>3.0</td>\n",
       "      <td>3.0</td>\n",
       "      <td>132</td>\n",
       "      <td>30859375</td>\n",
       "      <td>Gading Serpong</td>\n",
       "      <td>Tangerang Selatan</td>\n",
       "      <td>Banten</td>\n",
       "    </tr>\n",
       "    <tr>\n",
       "      <th>3</th>\n",
       "      <td>Gading Serpong, Tangerang Selatan, Banten</td>\n",
       "      <td>3300000000</td>\n",
       "      <td>4.0</td>\n",
       "      <td>3.0</td>\n",
       "      <td>220</td>\n",
       "      <td>18333333</td>\n",
       "      <td>Gading Serpong</td>\n",
       "      <td>Tangerang Selatan</td>\n",
       "      <td>Banten</td>\n",
       "    </tr>\n",
       "    <tr>\n",
       "      <th>4</th>\n",
       "      <td>Gading Serpong, Tangerang Selatan, Banten</td>\n",
       "      <td>3500000000</td>\n",
       "      <td>3.0</td>\n",
       "      <td>2.0</td>\n",
       "      <td>180</td>\n",
       "      <td>27777778</td>\n",
       "      <td>Gading Serpong</td>\n",
       "      <td>Tangerang Selatan</td>\n",
       "      <td>Banten</td>\n",
       "    </tr>\n",
       "    <tr>\n",
       "      <th>...</th>\n",
       "      <td>...</td>\n",
       "      <td>...</td>\n",
       "      <td>...</td>\n",
       "      <td>...</td>\n",
       "      <td>...</td>\n",
       "      <td>...</td>\n",
       "      <td>...</td>\n",
       "      <td>...</td>\n",
       "      <td>...</td>\n",
       "    </tr>\n",
       "    <tr>\n",
       "      <th>29415</th>\n",
       "      <td>Bintaro, Tangerang Selatan, Banten</td>\n",
       "      <td>3300000000</td>\n",
       "      <td>3.0</td>\n",
       "      <td>3.0</td>\n",
       "      <td>300</td>\n",
       "      <td>21710526</td>\n",
       "      <td>Bintaro</td>\n",
       "      <td>Tangerang Selatan</td>\n",
       "      <td>Banten</td>\n",
       "    </tr>\n",
       "    <tr>\n",
       "      <th>29416</th>\n",
       "      <td>Bintaro, Tangerang Selatan, Banten</td>\n",
       "      <td>4000000000</td>\n",
       "      <td>8.0</td>\n",
       "      <td>4.0</td>\n",
       "      <td>330</td>\n",
       "      <td>36363636</td>\n",
       "      <td>Bintaro</td>\n",
       "      <td>Tangerang Selatan</td>\n",
       "      <td>Banten</td>\n",
       "    </tr>\n",
       "    <tr>\n",
       "      <th>29417</th>\n",
       "      <td>Bintaro, Tangerang Selatan, Banten</td>\n",
       "      <td>2200000000</td>\n",
       "      <td>3.0</td>\n",
       "      <td>2.0</td>\n",
       "      <td>160</td>\n",
       "      <td>18333333</td>\n",
       "      <td>Bintaro</td>\n",
       "      <td>Tangerang Selatan</td>\n",
       "      <td>Banten</td>\n",
       "    </tr>\n",
       "    <tr>\n",
       "      <th>29418</th>\n",
       "      <td>Bintaro, Tangerang Selatan, Banten</td>\n",
       "      <td>1950000000</td>\n",
       "      <td>3.0</td>\n",
       "      <td>2.0</td>\n",
       "      <td>120</td>\n",
       "      <td>21666667</td>\n",
       "      <td>Bintaro</td>\n",
       "      <td>Tangerang Selatan</td>\n",
       "      <td>Banten</td>\n",
       "    </tr>\n",
       "    <tr>\n",
       "      <th>29419</th>\n",
       "      <td>Bintaro, Tangerang Selatan, Banten</td>\n",
       "      <td>5500000000</td>\n",
       "      <td>4.0</td>\n",
       "      <td>3.0</td>\n",
       "      <td>200</td>\n",
       "      <td>30555556</td>\n",
       "      <td>Bintaro</td>\n",
       "      <td>Tangerang Selatan</td>\n",
       "      <td>Banten</td>\n",
       "    </tr>\n",
       "  </tbody>\n",
       "</table>\n",
       "<p>29180 rows × 9 columns</p>\n",
       "</div>"
      ],
      "text/plain": [
       "                                        Location       Price  Bedroom  \\\n",
       "0      Gading Serpong, Tangerang Selatan, Banten  6900000000      5.0   \n",
       "1      Gading Serpong, Tangerang Selatan, Banten  4500000000      3.0   \n",
       "2      Gading Serpong, Tangerang Selatan, Banten  3950000000      3.0   \n",
       "3      Gading Serpong, Tangerang Selatan, Banten  3300000000      4.0   \n",
       "4      Gading Serpong, Tangerang Selatan, Banten  3500000000      3.0   \n",
       "...                                          ...         ...      ...   \n",
       "29415         Bintaro, Tangerang Selatan, Banten  3300000000      3.0   \n",
       "29416         Bintaro, Tangerang Selatan, Banten  4000000000      8.0   \n",
       "29417         Bintaro, Tangerang Selatan, Banten  2200000000      3.0   \n",
       "29418         Bintaro, Tangerang Selatan, Banten  1950000000      3.0   \n",
       "29419         Bintaro, Tangerang Selatan, Banten  5500000000      4.0   \n",
       "\n",
       "       Bathroom Floor_Area(m2) Floor_Area_Price          Region  \\\n",
       "0           5.0           420        20720721    Gading Serpong   \n",
       "1           3.0           190        12747875    Gading Serpong   \n",
       "2           3.0           132        30859375    Gading Serpong   \n",
       "3           3.0           220        18333333    Gading Serpong   \n",
       "4           2.0           180        27777778    Gading Serpong   \n",
       "...         ...            ...              ...             ...   \n",
       "29415       3.0           300        21710526           Bintaro   \n",
       "29416       4.0           330        36363636           Bintaro   \n",
       "29417       2.0           160        18333333           Bintaro   \n",
       "29418       2.0           120        21666667           Bintaro   \n",
       "29419       3.0           200        30555556           Bintaro   \n",
       "\n",
       "                    City Province  \n",
       "0      Tangerang Selatan   Banten  \n",
       "1      Tangerang Selatan   Banten  \n",
       "2      Tangerang Selatan   Banten  \n",
       "3      Tangerang Selatan   Banten  \n",
       "4      Tangerang Selatan   Banten  \n",
       "...                  ...      ...  \n",
       "29415  Tangerang Selatan   Banten  \n",
       "29416  Tangerang Selatan   Banten  \n",
       "29417  Tangerang Selatan   Banten  \n",
       "29418  Tangerang Selatan   Banten  \n",
       "29419  Tangerang Selatan   Banten  \n",
       "\n",
       "[29180 rows x 9 columns]"
      ]
     },
     "execution_count": 28,
     "metadata": {},
     "output_type": "execute_result"
    }
   ],
   "source": [
    "df"
   ]
  },
  {
   "cell_type": "code",
   "execution_count": 29,
   "id": "44bf60f6",
   "metadata": {},
   "outputs": [],
   "source": [
    "df = df.drop(columns={'Location'})"
   ]
  },
  {
   "cell_type": "code",
   "execution_count": 30,
   "id": "98b1d6eb",
   "metadata": {},
   "outputs": [
    {
     "data": {
      "text/plain": [
       "['Price',\n",
       " 'Bedroom',\n",
       " 'Bathroom',\n",
       " 'Floor_Area(m2)',\n",
       " 'Floor_Area_Price',\n",
       " 'Region',\n",
       " 'City',\n",
       " 'Province']"
      ]
     },
     "execution_count": 30,
     "metadata": {},
     "output_type": "execute_result"
    }
   ],
   "source": [
    "cols = df.columns.tolist()\n",
    "cols"
   ]
  },
  {
   "cell_type": "code",
   "execution_count": 31,
   "id": "659b7729",
   "metadata": {},
   "outputs": [],
   "source": [
    "cols = [cols[-3]]+ [cols[-2]] + [cols[-1]] + [cols[1]] + [cols[2]] + [cols[3]] + [cols[0]] + [cols[4]]"
   ]
  },
  {
   "cell_type": "code",
   "execution_count": 32,
   "id": "cfdc463e",
   "metadata": {},
   "outputs": [
    {
     "data": {
      "text/html": [
       "<div>\n",
       "<style scoped>\n",
       "    .dataframe tbody tr th:only-of-type {\n",
       "        vertical-align: middle;\n",
       "    }\n",
       "\n",
       "    .dataframe tbody tr th {\n",
       "        vertical-align: top;\n",
       "    }\n",
       "\n",
       "    .dataframe thead th {\n",
       "        text-align: right;\n",
       "    }\n",
       "</style>\n",
       "<table border=\"1\" class=\"dataframe\">\n",
       "  <thead>\n",
       "    <tr style=\"text-align: right;\">\n",
       "      <th></th>\n",
       "      <th>Region</th>\n",
       "      <th>City</th>\n",
       "      <th>Province</th>\n",
       "      <th>Bedroom</th>\n",
       "      <th>Bathroom</th>\n",
       "      <th>Floor_Area(m2)</th>\n",
       "      <th>Price</th>\n",
       "      <th>Floor_Area_Price</th>\n",
       "    </tr>\n",
       "  </thead>\n",
       "  <tbody>\n",
       "    <tr>\n",
       "      <th>0</th>\n",
       "      <td>Gading Serpong</td>\n",
       "      <td>Tangerang Selatan</td>\n",
       "      <td>Banten</td>\n",
       "      <td>5.0</td>\n",
       "      <td>5.0</td>\n",
       "      <td>420</td>\n",
       "      <td>6900000000</td>\n",
       "      <td>20720721</td>\n",
       "    </tr>\n",
       "    <tr>\n",
       "      <th>1</th>\n",
       "      <td>Gading Serpong</td>\n",
       "      <td>Tangerang Selatan</td>\n",
       "      <td>Banten</td>\n",
       "      <td>3.0</td>\n",
       "      <td>3.0</td>\n",
       "      <td>190</td>\n",
       "      <td>4500000000</td>\n",
       "      <td>12747875</td>\n",
       "    </tr>\n",
       "    <tr>\n",
       "      <th>2</th>\n",
       "      <td>Gading Serpong</td>\n",
       "      <td>Tangerang Selatan</td>\n",
       "      <td>Banten</td>\n",
       "      <td>3.0</td>\n",
       "      <td>3.0</td>\n",
       "      <td>132</td>\n",
       "      <td>3950000000</td>\n",
       "      <td>30859375</td>\n",
       "    </tr>\n",
       "    <tr>\n",
       "      <th>3</th>\n",
       "      <td>Gading Serpong</td>\n",
       "      <td>Tangerang Selatan</td>\n",
       "      <td>Banten</td>\n",
       "      <td>4.0</td>\n",
       "      <td>3.0</td>\n",
       "      <td>220</td>\n",
       "      <td>3300000000</td>\n",
       "      <td>18333333</td>\n",
       "    </tr>\n",
       "    <tr>\n",
       "      <th>4</th>\n",
       "      <td>Gading Serpong</td>\n",
       "      <td>Tangerang Selatan</td>\n",
       "      <td>Banten</td>\n",
       "      <td>3.0</td>\n",
       "      <td>2.0</td>\n",
       "      <td>180</td>\n",
       "      <td>3500000000</td>\n",
       "      <td>27777778</td>\n",
       "    </tr>\n",
       "    <tr>\n",
       "      <th>...</th>\n",
       "      <td>...</td>\n",
       "      <td>...</td>\n",
       "      <td>...</td>\n",
       "      <td>...</td>\n",
       "      <td>...</td>\n",
       "      <td>...</td>\n",
       "      <td>...</td>\n",
       "      <td>...</td>\n",
       "    </tr>\n",
       "    <tr>\n",
       "      <th>29415</th>\n",
       "      <td>Bintaro</td>\n",
       "      <td>Tangerang Selatan</td>\n",
       "      <td>Banten</td>\n",
       "      <td>3.0</td>\n",
       "      <td>3.0</td>\n",
       "      <td>300</td>\n",
       "      <td>3300000000</td>\n",
       "      <td>21710526</td>\n",
       "    </tr>\n",
       "    <tr>\n",
       "      <th>29416</th>\n",
       "      <td>Bintaro</td>\n",
       "      <td>Tangerang Selatan</td>\n",
       "      <td>Banten</td>\n",
       "      <td>8.0</td>\n",
       "      <td>4.0</td>\n",
       "      <td>330</td>\n",
       "      <td>4000000000</td>\n",
       "      <td>36363636</td>\n",
       "    </tr>\n",
       "    <tr>\n",
       "      <th>29417</th>\n",
       "      <td>Bintaro</td>\n",
       "      <td>Tangerang Selatan</td>\n",
       "      <td>Banten</td>\n",
       "      <td>3.0</td>\n",
       "      <td>2.0</td>\n",
       "      <td>160</td>\n",
       "      <td>2200000000</td>\n",
       "      <td>18333333</td>\n",
       "    </tr>\n",
       "    <tr>\n",
       "      <th>29418</th>\n",
       "      <td>Bintaro</td>\n",
       "      <td>Tangerang Selatan</td>\n",
       "      <td>Banten</td>\n",
       "      <td>3.0</td>\n",
       "      <td>2.0</td>\n",
       "      <td>120</td>\n",
       "      <td>1950000000</td>\n",
       "      <td>21666667</td>\n",
       "    </tr>\n",
       "    <tr>\n",
       "      <th>29419</th>\n",
       "      <td>Bintaro</td>\n",
       "      <td>Tangerang Selatan</td>\n",
       "      <td>Banten</td>\n",
       "      <td>4.0</td>\n",
       "      <td>3.0</td>\n",
       "      <td>200</td>\n",
       "      <td>5500000000</td>\n",
       "      <td>30555556</td>\n",
       "    </tr>\n",
       "  </tbody>\n",
       "</table>\n",
       "<p>29180 rows × 8 columns</p>\n",
       "</div>"
      ],
      "text/plain": [
       "               Region               City Province  Bedroom  Bathroom  \\\n",
       "0      Gading Serpong  Tangerang Selatan   Banten      5.0       5.0   \n",
       "1      Gading Serpong  Tangerang Selatan   Banten      3.0       3.0   \n",
       "2      Gading Serpong  Tangerang Selatan   Banten      3.0       3.0   \n",
       "3      Gading Serpong  Tangerang Selatan   Banten      4.0       3.0   \n",
       "4      Gading Serpong  Tangerang Selatan   Banten      3.0       2.0   \n",
       "...               ...                ...      ...      ...       ...   \n",
       "29415         Bintaro  Tangerang Selatan   Banten      3.0       3.0   \n",
       "29416         Bintaro  Tangerang Selatan   Banten      8.0       4.0   \n",
       "29417         Bintaro  Tangerang Selatan   Banten      3.0       2.0   \n",
       "29418         Bintaro  Tangerang Selatan   Banten      3.0       2.0   \n",
       "29419         Bintaro  Tangerang Selatan   Banten      4.0       3.0   \n",
       "\n",
       "      Floor_Area(m2)       Price Floor_Area_Price  \n",
       "0               420   6900000000       20720721    \n",
       "1               190   4500000000       12747875    \n",
       "2               132   3950000000       30859375    \n",
       "3               220   3300000000       18333333    \n",
       "4               180   3500000000       27777778    \n",
       "...              ...         ...              ...  \n",
       "29415           300   3300000000       21710526    \n",
       "29416           330   4000000000       36363636    \n",
       "29417           160   2200000000       18333333    \n",
       "29418           120   1950000000       21666667    \n",
       "29419           200   5500000000       30555556    \n",
       "\n",
       "[29180 rows x 8 columns]"
      ]
     },
     "execution_count": 32,
     "metadata": {},
     "output_type": "execute_result"
    }
   ],
   "source": [
    "df = df[cols]\n",
    "df"
   ]
  },
  {
   "cell_type": "markdown",
   "id": "2f7716c4",
   "metadata": {},
   "source": [
    "**6. Drop Duplicates**"
   ]
  },
  {
   "cell_type": "code",
   "execution_count": 33,
   "id": "eda8006a",
   "metadata": {},
   "outputs": [],
   "source": [
    "df = df.drop_duplicates()"
   ]
  },
  {
   "cell_type": "code",
   "execution_count": 34,
   "id": "59bd2e6b",
   "metadata": {},
   "outputs": [
    {
     "data": {
      "text/plain": [
       "(17446, 8)"
      ]
     },
     "execution_count": 34,
     "metadata": {},
     "output_type": "execute_result"
    }
   ],
   "source": [
    "df.shape"
   ]
  },
  {
   "cell_type": "markdown",
   "id": "104dea10",
   "metadata": {},
   "source": [
    "**7. Check Data Types**"
   ]
  },
  {
   "cell_type": "code",
   "execution_count": 35,
   "id": "c5e1e99e",
   "metadata": {},
   "outputs": [
    {
     "data": {
      "text/plain": [
       "Region               object\n",
       "City                 object\n",
       "Province             object\n",
       "Bedroom             float64\n",
       "Bathroom            float64\n",
       "Floor_Area(m2)       object\n",
       "Price                 int64\n",
       "Floor_Area_Price     object\n",
       "dtype: object"
      ]
     },
     "execution_count": 35,
     "metadata": {},
     "output_type": "execute_result"
    }
   ],
   "source": [
    "df.dtypes"
   ]
  },
  {
   "cell_type": "code",
   "execution_count": 36,
   "id": "6b1394c0",
   "metadata": {},
   "outputs": [
    {
     "name": "stderr",
     "output_type": "stream",
     "text": [
      "C:\\Users\\ASUS\\AppData\\Local\\Temp\\ipykernel_4404\\4139155178.py:1: SettingWithCopyWarning: \n",
      "A value is trying to be set on a copy of a slice from a DataFrame.\n",
      "Try using .loc[row_indexer,col_indexer] = value instead\n",
      "\n",
      "See the caveats in the documentation: https://pandas.pydata.org/pandas-docs/stable/user_guide/indexing.html#returning-a-view-versus-a-copy\n",
      "  df['Floor_Area(m2)'] = df['Floor_Area(m2)'].astype('int64')\n",
      "C:\\Users\\ASUS\\AppData\\Local\\Temp\\ipykernel_4404\\4139155178.py:2: SettingWithCopyWarning: \n",
      "A value is trying to be set on a copy of a slice from a DataFrame.\n",
      "Try using .loc[row_indexer,col_indexer] = value instead\n",
      "\n",
      "See the caveats in the documentation: https://pandas.pydata.org/pandas-docs/stable/user_guide/indexing.html#returning-a-view-versus-a-copy\n",
      "  df['Floor_Area_Price'] = df['Floor_Area_Price'].astype('int64')\n"
     ]
    }
   ],
   "source": [
    "df['Floor_Area(m2)'] = df['Floor_Area(m2)'].astype('int64')\n",
    "df['Floor_Area_Price'] = df['Floor_Area_Price'].astype('int64')"
   ]
  },
  {
   "cell_type": "markdown",
   "id": "d1648833",
   "metadata": {},
   "source": [
    "# EDA"
   ]
  },
  {
   "cell_type": "markdown",
   "id": "fa4cb21b",
   "metadata": {},
   "source": [
    "## Detect & Remove Outliers"
   ]
  },
  {
   "cell_type": "code",
   "execution_count": 37,
   "id": "e3ca6ff9",
   "metadata": {},
   "outputs": [
    {
     "data": {
      "text/html": [
       "<div>\n",
       "<style scoped>\n",
       "    .dataframe tbody tr th:only-of-type {\n",
       "        vertical-align: middle;\n",
       "    }\n",
       "\n",
       "    .dataframe tbody tr th {\n",
       "        vertical-align: top;\n",
       "    }\n",
       "\n",
       "    .dataframe thead th {\n",
       "        text-align: right;\n",
       "    }\n",
       "</style>\n",
       "<table border=\"1\" class=\"dataframe\">\n",
       "  <thead>\n",
       "    <tr style=\"text-align: right;\">\n",
       "      <th></th>\n",
       "      <th>Bedroom</th>\n",
       "      <th>Bathroom</th>\n",
       "      <th>Floor_Area(m2)</th>\n",
       "      <th>Price</th>\n",
       "      <th>Floor_Area_Price</th>\n",
       "    </tr>\n",
       "  </thead>\n",
       "  <tbody>\n",
       "    <tr>\n",
       "      <th>count</th>\n",
       "      <td>17446</td>\n",
       "      <td>17446</td>\n",
       "      <td>17446</td>\n",
       "      <td>17446</td>\n",
       "      <td>17446</td>\n",
       "    </tr>\n",
       "    <tr>\n",
       "      <th>mean</th>\n",
       "      <td>3</td>\n",
       "      <td>3</td>\n",
       "      <td>224</td>\n",
       "      <td>3673744521</td>\n",
       "      <td>38133908</td>\n",
       "    </tr>\n",
       "    <tr>\n",
       "      <th>std</th>\n",
       "      <td>1</td>\n",
       "      <td>1</td>\n",
       "      <td>3202</td>\n",
       "      <td>8243146129</td>\n",
       "      <td>621857320</td>\n",
       "    </tr>\n",
       "    <tr>\n",
       "      <th>min</th>\n",
       "      <td>1</td>\n",
       "      <td>1</td>\n",
       "      <td>1</td>\n",
       "      <td>1</td>\n",
       "      <td>0</td>\n",
       "    </tr>\n",
       "    <tr>\n",
       "      <th>25%</th>\n",
       "      <td>3</td>\n",
       "      <td>2</td>\n",
       "      <td>83</td>\n",
       "      <td>1387025000</td>\n",
       "      <td>13000000</td>\n",
       "    </tr>\n",
       "    <tr>\n",
       "      <th>50%</th>\n",
       "      <td>4</td>\n",
       "      <td>3</td>\n",
       "      <td>140</td>\n",
       "      <td>2400000000</td>\n",
       "      <td>18061391</td>\n",
       "    </tr>\n",
       "    <tr>\n",
       "      <th>75%</th>\n",
       "      <td>4</td>\n",
       "      <td>4</td>\n",
       "      <td>240</td>\n",
       "      <td>4300000000</td>\n",
       "      <td>23895016</td>\n",
       "    </tr>\n",
       "    <tr>\n",
       "      <th>max</th>\n",
       "      <td>10</td>\n",
       "      <td>10</td>\n",
       "      <td>400000</td>\n",
       "      <td>850000000000</td>\n",
       "      <td>29375000000</td>\n",
       "    </tr>\n",
       "  </tbody>\n",
       "</table>\n",
       "</div>"
      ],
      "text/plain": [
       "       Bedroom  Bathroom  Floor_Area(m2)         Price  Floor_Area_Price\n",
       "count    17446     17446           17446         17446             17446\n",
       "mean         3         3             224    3673744521          38133908\n",
       "std          1         1            3202    8243146129         621857320\n",
       "min          1         1               1             1                 0\n",
       "25%          3         2              83    1387025000          13000000\n",
       "50%          4         3             140    2400000000          18061391\n",
       "75%          4         4             240    4300000000          23895016\n",
       "max         10        10          400000  850000000000       29375000000"
      ]
     },
     "execution_count": 37,
     "metadata": {},
     "output_type": "execute_result"
    }
   ],
   "source": [
    "df.describe().astype('int64')"
   ]
  },
  {
   "cell_type": "code",
   "execution_count": 38,
   "id": "79e8cb73",
   "metadata": {},
   "outputs": [
    {
     "data": {
      "image/png": "[encoded data removed]",
      "text/plain": [
       "<Figure size 1500x500 with 3 Axes>"
      ]
     },
     "metadata": {},
     "output_type": "display_data"
    }
   ],
   "source": [
    "plt.figure(figsize=(15,5))\n",
    "plt.subplot(1,3,1)\n",
    "df.boxplot(column=['Price'])\n",
    "\n",
    "plt.subplot(1,3,2)\n",
    "df.boxplot(column=['Floor_Area_Price']) \n",
    "\n",
    "plt.subplot(1,3,3)\n",
    "df.boxplot(column=['Floor_Area(m2)']) \n",
    "\n",
    "plt.show()\n",
    "\n",
    "## I found that there are some 'unusual' value on Price, Floor Area Price, and also Floor_Area(m2)\n",
    "## Like the price is 0, 1 and the floor area only 1 m2\n",
    "## Since it's not normally distributed, i'm using percentile\n",
    "## I decide to remove the outlier with 1% and 99%\n",
    "## Especially for the Floor Area, i'm just going drop the bottom with percentile\n",
    "## And for the highest floor area, i'm dropping with number after the plot result\n",
    "## Actually i don't really know about the normal house price in South Tangerang"
   ]
  },
  {
   "cell_type": "code",
   "execution_count": 39,
   "id": "ddd5f3ef",
   "metadata": {},
   "outputs": [],
   "source": [
    "out_price = df['Price'].quantile(q=[0.01,0.99]).astype('int64')\n",
    "out_floorprice = df['Floor_Area_Price'].quantile(q=[0.01,0.99]).astype('int64')\n",
    "out_floorarea = df['Floor_Area(m2)'].quantile(q=[0.01]).astype('int64')"
   ]
  },
  {
   "cell_type": "code",
   "execution_count": 40,
   "id": "9eaeb266",
   "metadata": {},
   "outputs": [
    {
     "name": "stdout",
     "output_type": "stream",
     "text": [
      "Price Percentile:\n",
      "0.01      144500000\n",
      "0.99    20000000000\n",
      "Name: Price, dtype: int64\n",
      "Floor Price Percentile:\n",
      "0.01     1043917\n",
      "0.99    50869784\n",
      "Name: Floor_Area_Price, dtype: int64\n",
      "Floor Area Percentile:\n",
      "0.01    36\n",
      "Name: Floor_Area(m2), dtype: int64\n"
     ]
    }
   ],
   "source": [
    "print('Price Percentile:')\n",
    "print(out_price)\n",
    "\n",
    "print('Floor Price Percentile:')\n",
    "print(out_floorprice)\n",
    "\n",
    "print('Floor Area Percentile:')\n",
    "print(out_floorarea)"
   ]
  },
  {
   "cell_type": "code",
   "execution_count": 41,
   "id": "6b843caa",
   "metadata": {},
   "outputs": [
    {
     "data": {
      "text/html": [
       "<div>\n",
       "<style scoped>\n",
       "    .dataframe tbody tr th:only-of-type {\n",
       "        vertical-align: middle;\n",
       "    }\n",
       "\n",
       "    .dataframe tbody tr th {\n",
       "        vertical-align: top;\n",
       "    }\n",
       "\n",
       "    .dataframe thead th {\n",
       "        text-align: right;\n",
       "    }\n",
       "</style>\n",
       "<table border=\"1\" class=\"dataframe\">\n",
       "  <thead>\n",
       "    <tr style=\"text-align: right;\">\n",
       "      <th></th>\n",
       "      <th>Region</th>\n",
       "      <th>City</th>\n",
       "      <th>Province</th>\n",
       "      <th>Bedroom</th>\n",
       "      <th>Bathroom</th>\n",
       "      <th>Floor_Area(m2)</th>\n",
       "      <th>Price</th>\n",
       "      <th>Floor_Area_Price</th>\n",
       "    </tr>\n",
       "  </thead>\n",
       "  <tbody>\n",
       "    <tr>\n",
       "      <th>95</th>\n",
       "      <td>Ciputat Timur</td>\n",
       "      <td>Tangerang Selatan</td>\n",
       "      <td>Banten</td>\n",
       "      <td>4.0</td>\n",
       "      <td>4.0</td>\n",
       "      <td>1600</td>\n",
       "      <td>12000000000</td>\n",
       "      <td>9600000</td>\n",
       "    </tr>\n",
       "    <tr>\n",
       "      <th>445</th>\n",
       "      <td>Bintaro</td>\n",
       "      <td>Tangerang Selatan</td>\n",
       "      <td>Banten</td>\n",
       "      <td>9.0</td>\n",
       "      <td>9.0</td>\n",
       "      <td>1000</td>\n",
       "      <td>19000000000</td>\n",
       "      <td>9223301</td>\n",
       "    </tr>\n",
       "    <tr>\n",
       "      <th>801</th>\n",
       "      <td>Bintaro</td>\n",
       "      <td>Tangerang Selatan</td>\n",
       "      <td>Banten</td>\n",
       "      <td>7.0</td>\n",
       "      <td>6.0</td>\n",
       "      <td>900</td>\n",
       "      <td>17500000000</td>\n",
       "      <td>58333333</td>\n",
       "    </tr>\n",
       "    <tr>\n",
       "      <th>1154</th>\n",
       "      <td>BSD</td>\n",
       "      <td>Tangerang Selatan</td>\n",
       "      <td>Banten</td>\n",
       "      <td>5.0</td>\n",
       "      <td>4.0</td>\n",
       "      <td>1046</td>\n",
       "      <td>25500000000</td>\n",
       "      <td>31835206</td>\n",
       "    </tr>\n",
       "    <tr>\n",
       "      <th>1307</th>\n",
       "      <td>Bintaro</td>\n",
       "      <td>Tangerang Selatan</td>\n",
       "      <td>Banten</td>\n",
       "      <td>7.0</td>\n",
       "      <td>9.0</td>\n",
       "      <td>1150</td>\n",
       "      <td>25000000000</td>\n",
       "      <td>36818851</td>\n",
       "    </tr>\n",
       "    <tr>\n",
       "      <th>...</th>\n",
       "      <td>...</td>\n",
       "      <td>...</td>\n",
       "      <td>...</td>\n",
       "      <td>...</td>\n",
       "      <td>...</td>\n",
       "      <td>...</td>\n",
       "      <td>...</td>\n",
       "      <td>...</td>\n",
       "    </tr>\n",
       "    <tr>\n",
       "      <th>29015</th>\n",
       "      <td>BSD</td>\n",
       "      <td>Tangerang Selatan</td>\n",
       "      <td>Banten</td>\n",
       "      <td>6.0</td>\n",
       "      <td>5.0</td>\n",
       "      <td>1000</td>\n",
       "      <td>24000000000</td>\n",
       "      <td>33898305</td>\n",
       "    </tr>\n",
       "    <tr>\n",
       "      <th>29076</th>\n",
       "      <td>BSD</td>\n",
       "      <td>Tangerang Selatan</td>\n",
       "      <td>Banten</td>\n",
       "      <td>4.0</td>\n",
       "      <td>4.0</td>\n",
       "      <td>835</td>\n",
       "      <td>36000000000</td>\n",
       "      <td>24242424</td>\n",
       "    </tr>\n",
       "    <tr>\n",
       "      <th>29220</th>\n",
       "      <td>Bintaro</td>\n",
       "      <td>Tangerang Selatan</td>\n",
       "      <td>Banten</td>\n",
       "      <td>10.0</td>\n",
       "      <td>10.0</td>\n",
       "      <td>3500</td>\n",
       "      <td>60000000000</td>\n",
       "      <td>15000000</td>\n",
       "    </tr>\n",
       "    <tr>\n",
       "      <th>29253</th>\n",
       "      <td>Bintaro</td>\n",
       "      <td>Tangerang Selatan</td>\n",
       "      <td>Banten</td>\n",
       "      <td>6.0</td>\n",
       "      <td>5.0</td>\n",
       "      <td>900</td>\n",
       "      <td>16000000000</td>\n",
       "      <td>26666667</td>\n",
       "    </tr>\n",
       "    <tr>\n",
       "      <th>29343</th>\n",
       "      <td>BSD</td>\n",
       "      <td>Tangerang Selatan</td>\n",
       "      <td>Banten</td>\n",
       "      <td>7.0</td>\n",
       "      <td>7.0</td>\n",
       "      <td>969</td>\n",
       "      <td>21000000000</td>\n",
       "      <td>29661017</td>\n",
       "    </tr>\n",
       "  </tbody>\n",
       "</table>\n",
       "<p>172 rows × 8 columns</p>\n",
       "</div>"
      ],
      "text/plain": [
       "              Region               City Province  Bedroom  Bathroom  \\\n",
       "95     Ciputat Timur  Tangerang Selatan   Banten      4.0       4.0   \n",
       "445          Bintaro  Tangerang Selatan   Banten      9.0       9.0   \n",
       "801          Bintaro  Tangerang Selatan   Banten      7.0       6.0   \n",
       "1154             BSD  Tangerang Selatan   Banten      5.0       4.0   \n",
       "1307         Bintaro  Tangerang Selatan   Banten      7.0       9.0   \n",
       "...              ...                ...      ...      ...       ...   \n",
       "29015            BSD  Tangerang Selatan   Banten      6.0       5.0   \n",
       "29076            BSD  Tangerang Selatan   Banten      4.0       4.0   \n",
       "29220        Bintaro  Tangerang Selatan   Banten     10.0      10.0   \n",
       "29253        Bintaro  Tangerang Selatan   Banten      6.0       5.0   \n",
       "29343            BSD  Tangerang Selatan   Banten      7.0       7.0   \n",
       "\n",
       "       Floor_Area(m2)        Price  Floor_Area_Price  \n",
       "95               1600  12000000000           9600000  \n",
       "445              1000  19000000000           9223301  \n",
       "801               900  17500000000          58333333  \n",
       "1154             1046  25500000000          31835206  \n",
       "1307             1150  25000000000          36818851  \n",
       "...               ...          ...               ...  \n",
       "29015            1000  24000000000          33898305  \n",
       "29076             835  36000000000          24242424  \n",
       "29220            3500  60000000000          15000000  \n",
       "29253             900  16000000000          26666667  \n",
       "29343             969  21000000000          29661017  \n",
       "\n",
       "[172 rows x 8 columns]"
      ]
     },
     "execution_count": 41,
     "metadata": {},
     "output_type": "execute_result"
    }
   ],
   "source": [
    "df.loc[df['Floor_Area(m2)'] > 800]\n",
    "\n",
    "## I think it's okay to drop it since it's only 172 rows\n",
    "## There are lots of mansions i guess"
   ]
  },
  {
   "cell_type": "code",
   "execution_count": 42,
   "id": "8b6ccbd6",
   "metadata": {},
   "outputs": [],
   "source": [
    "## I'm keeping the origin df, so i make a new dataframe called df2\n",
    "## only for make it more accurate for average and correlation\n",
    "## and also for visualization"
   ]
  },
  {
   "cell_type": "code",
   "execution_count": 43,
   "id": "58e6d43c",
   "metadata": {},
   "outputs": [
    {
     "name": "stderr",
     "output_type": "stream",
     "text": [
      "C:\\Users\\ASUS\\AppData\\Local\\Temp\\ipykernel_4404\\3774646395.py:5: UserWarning: Boolean Series key will be reindexed to match DataFrame index.\n",
      "  df2 = df2[(df['Floor_Area_Price'] > 1043917) & (df['Floor_Area_Price'] < 50869784)]\n",
      "C:\\Users\\ASUS\\AppData\\Local\\Temp\\ipykernel_4404\\3774646395.py:6: UserWarning: Boolean Series key will be reindexed to match DataFrame index.\n",
      "  df2 = df2[(df['Floor_Area(m2)'] > 36 ) & (df['Floor_Area(m2)'] < 800)]\n"
     ]
    }
   ],
   "source": [
    "## I want to filtering using percentile\n",
    "## I do the filtering three times make sure i don't make a mistake if i join the filtering\n",
    "\n",
    "df2 = df[(df['Price'] > 144500000) & (df['Price'] < 20000000000)]\n",
    "df2 = df2[(df['Floor_Area_Price'] > 1043917) & (df['Floor_Area_Price'] < 50869784)]\n",
    "df2 = df2[(df['Floor_Area(m2)'] > 36 ) & (df['Floor_Area(m2)'] < 800)]"
   ]
  },
  {
   "cell_type": "markdown",
   "id": "29c5801e",
   "metadata": {},
   "source": [
    "## Avoiding Bias"
   ]
  },
  {
   "cell_type": "code",
   "execution_count": 44,
   "id": "48f764b1",
   "metadata": {},
   "outputs": [
    {
     "data": {
      "text/plain": [
       "Bintaro           5629\n",
       "BSD               3426\n",
       "Serpong           1385\n",
       "Gading Serpong    1333\n",
       "Ciputat           1251\n",
       "Pamulang          1199\n",
       "Pondok Aren       1037\n",
       "Ciputat Timur      906\n",
       "Serpong Utara      591\n",
       "Alam Sutera        539\n",
       "Setu               130\n",
       "Pagedangan          14\n",
       "Ciledug              3\n",
       "Cinere               1\n",
       "Serua                1\n",
       "Larangan             1\n",
       "Name: Region, dtype: int64"
      ]
     },
     "execution_count": 44,
     "metadata": {},
     "output_type": "execute_result"
    }
   ],
   "source": [
    "# I think it's better to remove Region that only have a few houses because it can make bias for price\n",
    "# So i'm gonna check then remove it\n",
    "\n",
    "region_count = df['Region'].value_counts()\n",
    "region_count"
   ]
  },
  {
   "cell_type": "code",
   "execution_count": 45,
   "id": "ba248959",
   "metadata": {},
   "outputs": [],
   "source": [
    "# I'm gonna remove that have less than 100 houses\n",
    "\n",
    "drop_value = ['Pagedangan', 'Ciledug', 'Cinere', 'Serua', 'Larangan']\n",
    "\n",
    "df2 = df2[~df2['Region'].isin(drop_value)]"
   ]
  },
  {
   "cell_type": "code",
   "execution_count": 46,
   "id": "9d7d81fa",
   "metadata": {},
   "outputs": [
    {
     "data": {
      "text/plain": [
       "(16539, 8)"
      ]
     },
     "execution_count": 46,
     "metadata": {},
     "output_type": "execute_result"
    }
   ],
   "source": [
    "df2.shape"
   ]
  },
  {
   "cell_type": "code",
   "execution_count": 47,
   "id": "90fd91cb",
   "metadata": {},
   "outputs": [
    {
     "data": {
      "text/html": [
       "<div>\n",
       "<style scoped>\n",
       "    .dataframe tbody tr th:only-of-type {\n",
       "        vertical-align: middle;\n",
       "    }\n",
       "\n",
       "    .dataframe tbody tr th {\n",
       "        vertical-align: top;\n",
       "    }\n",
       "\n",
       "    .dataframe thead th {\n",
       "        text-align: right;\n",
       "    }\n",
       "</style>\n",
       "<table border=\"1\" class=\"dataframe\">\n",
       "  <thead>\n",
       "    <tr style=\"text-align: right;\">\n",
       "      <th></th>\n",
       "      <th>Bedroom</th>\n",
       "      <th>Bathroom</th>\n",
       "      <th>Floor_Area(m2)</th>\n",
       "      <th>Price</th>\n",
       "      <th>Floor_Area_Price</th>\n",
       "    </tr>\n",
       "  </thead>\n",
       "  <tbody>\n",
       "    <tr>\n",
       "      <th>count</th>\n",
       "      <td>16539</td>\n",
       "      <td>16539</td>\n",
       "      <td>16539</td>\n",
       "      <td>16539</td>\n",
       "      <td>16539</td>\n",
       "    </tr>\n",
       "    <tr>\n",
       "      <th>mean</th>\n",
       "      <td>3</td>\n",
       "      <td>2</td>\n",
       "      <td>176</td>\n",
       "      <td>3245568274</td>\n",
       "      <td>19106477</td>\n",
       "    </tr>\n",
       "    <tr>\n",
       "      <th>std</th>\n",
       "      <td>1</td>\n",
       "      <td>1</td>\n",
       "      <td>125</td>\n",
       "      <td>2735893209</td>\n",
       "      <td>7826457</td>\n",
       "    </tr>\n",
       "    <tr>\n",
       "      <th>min</th>\n",
       "      <td>1</td>\n",
       "      <td>1</td>\n",
       "      <td>37</td>\n",
       "      <td>150000000</td>\n",
       "      <td>1209677</td>\n",
       "    </tr>\n",
       "    <tr>\n",
       "      <th>25%</th>\n",
       "      <td>3</td>\n",
       "      <td>2</td>\n",
       "      <td>85</td>\n",
       "      <td>1400000000</td>\n",
       "      <td>13265306</td>\n",
       "    </tr>\n",
       "    <tr>\n",
       "      <th>50%</th>\n",
       "      <td>4</td>\n",
       "      <td>3</td>\n",
       "      <td>140</td>\n",
       "      <td>2400030000</td>\n",
       "      <td>18181818</td>\n",
       "    </tr>\n",
       "    <tr>\n",
       "      <th>75%</th>\n",
       "      <td>4</td>\n",
       "      <td>4</td>\n",
       "      <td>230</td>\n",
       "      <td>4189999999</td>\n",
       "      <td>23750000</td>\n",
       "    </tr>\n",
       "    <tr>\n",
       "      <th>max</th>\n",
       "      <td>10</td>\n",
       "      <td>10</td>\n",
       "      <td>785</td>\n",
       "      <td>19900000000</td>\n",
       "      <td>50821744</td>\n",
       "    </tr>\n",
       "  </tbody>\n",
       "</table>\n",
       "</div>"
      ],
      "text/plain": [
       "       Bedroom  Bathroom  Floor_Area(m2)        Price  Floor_Area_Price\n",
       "count    16539     16539           16539        16539             16539\n",
       "mean         3         2             176   3245568274          19106477\n",
       "std          1         1             125   2735893209           7826457\n",
       "min          1         1              37    150000000           1209677\n",
       "25%          3         2              85   1400000000          13265306\n",
       "50%          4         3             140   2400030000          18181818\n",
       "75%          4         4             230   4189999999          23750000\n",
       "max         10        10             785  19900000000          50821744"
      ]
     },
     "execution_count": 47,
     "metadata": {},
     "output_type": "execute_result"
    }
   ],
   "source": [
    "df2.describe().astype('int64')"
   ]
  },
  {
   "cell_type": "code",
   "execution_count": 48,
   "id": "649cef01",
   "metadata": {},
   "outputs": [
    {
     "data": {
      "image/png": "[encoded data removed]",
      "text/plain": [
       "<Figure size 800x300 with 2 Axes>"
      ]
     },
     "metadata": {},
     "output_type": "display_data"
    }
   ],
   "source": [
    "plt.figure(figsize=(8, 3))\n",
    "\n",
    "heatmap = sns.heatmap(df2.corr(), vmin=-1, vmax=1, annot=True)\n",
    "heatmap.set_title('Correlation Heatmap', fontdict={'fontsize':20}, pad=12);\n",
    "\n",
    "plt.show()"
   ]
  },
  {
   "cell_type": "markdown",
   "id": "3ce2fc3b",
   "metadata": {},
   "source": [
    "**Categorical : Region, Bedroom, Bathroom, Floor Area(m2), Floor Area Price**\n",
    "<br>\n",
    "**Numerical : Price**"
   ]
  },
  {
   "cell_type": "markdown",
   "id": "a62e08eb",
   "metadata": {},
   "source": [
    "## Count of Houses Sale Each Region"
   ]
  },
  {
   "cell_type": "code",
   "execution_count": 49,
   "id": "8b931936",
   "metadata": {},
   "outputs": [
    {
     "data": {
      "text/plain": [
       "Bintaro           5470\n",
       "BSD               3141\n",
       "Gading Serpong    1303\n",
       "Serpong           1291\n",
       "Ciputat           1176\n",
       "Pamulang          1106\n",
       "Pondok Aren       1002\n",
       "Ciputat Timur      871\n",
       "Serpong Utara      564\n",
       "Alam Sutera        500\n",
       "Setu               115\n",
       "Name: Region, dtype: int64"
      ]
     },
     "execution_count": 49,
     "metadata": {},
     "output_type": "execute_result"
    }
   ],
   "source": [
    "region_count = df2['Region'].value_counts()\n",
    "region_count"
   ]
  },
  {
   "cell_type": "code",
   "execution_count": 50,
   "id": "f1ab2de5",
   "metadata": {},
   "outputs": [
    {
     "data": {
      "text/plain": [
       "<AxesSubplot:xlabel='count', ylabel='Region'>"
      ]
     },
     "execution_count": 50,
     "metadata": {},
     "output_type": "execute_result"
    },
    {
     "data": {
      "image/png": "[encoded data removed]",
      "text/plain": [
       "<Figure size 640x480 with 1 Axes>"
      ]
     },
     "metadata": {},
     "output_type": "display_data"
    }
   ],
   "source": [
    "region_count = df2['Region'].value_counts().index\n",
    "sns.countplot(data=df, y='Region', color='r', order=region_count)"
   ]
  },
  {
   "cell_type": "code",
   "execution_count": 51,
   "id": "a7f01348",
   "metadata": {},
   "outputs": [],
   "source": [
    "# Bintaro is the region that sell the most houses"
   ]
  },
  {
   "cell_type": "markdown",
   "id": "1328ca79",
   "metadata": {},
   "source": [
    "## Average Price of Each Region"
   ]
  },
  {
   "cell_type": "code",
   "execution_count": 52,
   "id": "56d2b55f",
   "metadata": {},
   "outputs": [
    {
     "data": {
      "text/html": [
       "<div>\n",
       "<style scoped>\n",
       "    .dataframe tbody tr th:only-of-type {\n",
       "        vertical-align: middle;\n",
       "    }\n",
       "\n",
       "    .dataframe tbody tr th {\n",
       "        vertical-align: top;\n",
       "    }\n",
       "\n",
       "    .dataframe thead th {\n",
       "        text-align: right;\n",
       "    }\n",
       "</style>\n",
       "<table border=\"1\" class=\"dataframe\">\n",
       "  <thead>\n",
       "    <tr style=\"text-align: right;\">\n",
       "      <th></th>\n",
       "      <th>Region</th>\n",
       "      <th>Price</th>\n",
       "    </tr>\n",
       "  </thead>\n",
       "  <tbody>\n",
       "    <tr>\n",
       "      <th>10</th>\n",
       "      <td>Setu</td>\n",
       "      <td>1149676631</td>\n",
       "    </tr>\n",
       "    <tr>\n",
       "      <th>6</th>\n",
       "      <td>Pamulang</td>\n",
       "      <td>1302061534</td>\n",
       "    </tr>\n",
       "    <tr>\n",
       "      <th>3</th>\n",
       "      <td>Ciputat</td>\n",
       "      <td>2118151430</td>\n",
       "    </tr>\n",
       "    <tr>\n",
       "      <th>8</th>\n",
       "      <td>Serpong</td>\n",
       "      <td>2431069458</td>\n",
       "    </tr>\n",
       "    <tr>\n",
       "      <th>9</th>\n",
       "      <td>Serpong Utara</td>\n",
       "      <td>2442298636</td>\n",
       "    </tr>\n",
       "    <tr>\n",
       "      <th>7</th>\n",
       "      <td>Pondok Aren</td>\n",
       "      <td>2590005652</td>\n",
       "    </tr>\n",
       "    <tr>\n",
       "      <th>4</th>\n",
       "      <td>Ciputat Timur</td>\n",
       "      <td>3118743518</td>\n",
       "    </tr>\n",
       "    <tr>\n",
       "      <th>5</th>\n",
       "      <td>Gading Serpong</td>\n",
       "      <td>3409839939</td>\n",
       "    </tr>\n",
       "    <tr>\n",
       "      <th>1</th>\n",
       "      <td>BSD</td>\n",
       "      <td>3718230368</td>\n",
       "    </tr>\n",
       "    <tr>\n",
       "      <th>2</th>\n",
       "      <td>Bintaro</td>\n",
       "      <td>3880568063</td>\n",
       "    </tr>\n",
       "    <tr>\n",
       "      <th>0</th>\n",
       "      <td>Alam Sutera</td>\n",
       "      <td>4877892074</td>\n",
       "    </tr>\n",
       "  </tbody>\n",
       "</table>\n",
       "</div>"
      ],
      "text/plain": [
       "            Region       Price\n",
       "10            Setu  1149676631\n",
       "6         Pamulang  1302061534\n",
       "3          Ciputat  2118151430\n",
       "8          Serpong  2431069458\n",
       "9    Serpong Utara  2442298636\n",
       "7      Pondok Aren  2590005652\n",
       "4    Ciputat Timur  3118743518\n",
       "5   Gading Serpong  3409839939\n",
       "1              BSD  3718230368\n",
       "2          Bintaro  3880568063\n",
       "0      Alam Sutera  4877892074"
      ]
     },
     "execution_count": 52,
     "metadata": {},
     "output_type": "execute_result"
    }
   ],
   "source": [
    "region_price = df2.groupby('Region')['Price'].mean()\n",
    "region_price = pd.DataFrame(region_price).reset_index()\n",
    "column_name1 = ['Region', 'Price']\n",
    "region_price.columns = column_name1\n",
    "region_price = region_price.sort_values('Price', ascending=True)\n",
    "region_price['Price'] = region_price['Price'].astype('int64')\n",
    "region_price"
   ]
  },
  {
   "cell_type": "code",
   "execution_count": 53,
   "id": "79ce5275",
   "metadata": {},
   "outputs": [],
   "source": [
    "region_price['Price'] = region_price['Price'].astype('int64')"
   ]
  },
  {
   "cell_type": "code",
   "execution_count": 54,
   "id": "fe5bb14c",
   "metadata": {},
   "outputs": [
    {
     "data": {
      "text/plain": [
       "<Figure size 1000x500 with 0 Axes>"
      ]
     },
     "metadata": {},
     "output_type": "display_data"
    },
    {
     "data": {
      "image/png": "[encoded data removed]",
      "text/plain": [
       "<Figure size 640x480 with 1 Axes>"
      ]
     },
     "metadata": {},
     "output_type": "display_data"
    }
   ],
   "source": [
    "plt.figure(figsize=(10,5))\n",
    "\n",
    "region_price.plot(kind='barh', x='Region', y='Price', color='r', title='Region Average Price')\n",
    "plt.xlabel('Price')\n",
    "plt.ylabel('Region')\n",
    "\n",
    "plt.show()"
   ]
  },
  {
   "cell_type": "code",
   "execution_count": 55,
   "id": "3fa04c87",
   "metadata": {},
   "outputs": [],
   "source": [
    "# Alam Sutera is the region with most expensive average price\n",
    "# Setu and Pamulang is the cheapest since it just a slight difference price"
   ]
  },
  {
   "cell_type": "markdown",
   "id": "53b89269",
   "metadata": {},
   "source": [
    "## Average Area Price Each Region"
   ]
  },
  {
   "cell_type": "code",
   "execution_count": 56,
   "id": "c500ee4c",
   "metadata": {},
   "outputs": [
    {
     "data": {
      "text/html": [
       "<div>\n",
       "<style scoped>\n",
       "    .dataframe tbody tr th:only-of-type {\n",
       "        vertical-align: middle;\n",
       "    }\n",
       "\n",
       "    .dataframe tbody tr th {\n",
       "        vertical-align: top;\n",
       "    }\n",
       "\n",
       "    .dataframe thead th {\n",
       "        text-align: right;\n",
       "    }\n",
       "</style>\n",
       "<table border=\"1\" class=\"dataframe\">\n",
       "  <thead>\n",
       "    <tr style=\"text-align: right;\">\n",
       "      <th></th>\n",
       "      <th>Region</th>\n",
       "      <th>Floor_Area_Price</th>\n",
       "    </tr>\n",
       "  </thead>\n",
       "  <tbody>\n",
       "    <tr>\n",
       "      <th>6</th>\n",
       "      <td>Pamulang</td>\n",
       "      <td>11932109</td>\n",
       "    </tr>\n",
       "    <tr>\n",
       "      <th>10</th>\n",
       "      <td>Setu</td>\n",
       "      <td>12228107</td>\n",
       "    </tr>\n",
       "    <tr>\n",
       "      <th>3</th>\n",
       "      <td>Ciputat</td>\n",
       "      <td>14869539</td>\n",
       "    </tr>\n",
       "    <tr>\n",
       "      <th>4</th>\n",
       "      <td>Ciputat Timur</td>\n",
       "      <td>16604027</td>\n",
       "    </tr>\n",
       "    <tr>\n",
       "      <th>8</th>\n",
       "      <td>Serpong</td>\n",
       "      <td>16767595</td>\n",
       "    </tr>\n",
       "    <tr>\n",
       "      <th>7</th>\n",
       "      <td>Pondok Aren</td>\n",
       "      <td>17495770</td>\n",
       "    </tr>\n",
       "    <tr>\n",
       "      <th>9</th>\n",
       "      <td>Serpong Utara</td>\n",
       "      <td>17535506</td>\n",
       "    </tr>\n",
       "    <tr>\n",
       "      <th>2</th>\n",
       "      <td>Bintaro</td>\n",
       "      <td>20571711</td>\n",
       "    </tr>\n",
       "    <tr>\n",
       "      <th>1</th>\n",
       "      <td>BSD</td>\n",
       "      <td>20664767</td>\n",
       "    </tr>\n",
       "    <tr>\n",
       "      <th>5</th>\n",
       "      <td>Gading Serpong</td>\n",
       "      <td>23757960</td>\n",
       "    </tr>\n",
       "    <tr>\n",
       "      <th>0</th>\n",
       "      <td>Alam Sutera</td>\n",
       "      <td>23981060</td>\n",
       "    </tr>\n",
       "  </tbody>\n",
       "</table>\n",
       "</div>"
      ],
      "text/plain": [
       "            Region  Floor_Area_Price\n",
       "6         Pamulang          11932109\n",
       "10            Setu          12228107\n",
       "3          Ciputat          14869539\n",
       "4    Ciputat Timur          16604027\n",
       "8          Serpong          16767595\n",
       "7      Pondok Aren          17495770\n",
       "9    Serpong Utara          17535506\n",
       "2          Bintaro          20571711\n",
       "1              BSD          20664767\n",
       "5   Gading Serpong          23757960\n",
       "0      Alam Sutera          23981060"
      ]
     },
     "execution_count": 56,
     "metadata": {},
     "output_type": "execute_result"
    }
   ],
   "source": [
    "area_price = df2.groupby('Region')['Floor_Area_Price'].mean()\n",
    "area_price = pd.DataFrame(area_price).reset_index()\n",
    "column_name2 = ['Region', 'Floor_Area_Price']\n",
    "area_price.columns = column_name2\n",
    "area_price = area_price.sort_values('Floor_Area_Price', ascending=True)\n",
    "area_price['Floor_Area_Price'] = area_price['Floor_Area_Price'].astype('int64')\n",
    "area_price"
   ]
  },
  {
   "cell_type": "code",
   "execution_count": 57,
   "id": "72a32c6a",
   "metadata": {},
   "outputs": [
    {
     "data": {
      "text/plain": [
       "<Figure size 1000x500 with 0 Axes>"
      ]
     },
     "metadata": {},
     "output_type": "display_data"
    },
    {
     "data": {
      "image/png": "[encoded data removed]",
      "text/plain": [
       "<Figure size 640x480 with 1 Axes>"
      ]
     },
     "metadata": {},
     "output_type": "display_data"
    }
   ],
   "source": [
    "plt.figure(figsize=(10,5))\n",
    "\n",
    "area_price.plot(kind='barh', x='Region', y='Floor_Area_Price', color='b', title='Region Average Area Price')\n",
    "plt.xlabel('Price')\n",
    "plt.ylabel('Region')\n",
    "\n",
    "plt.show()"
   ]
  },
  {
   "cell_type": "code",
   "execution_count": 58,
   "id": "34425970",
   "metadata": {},
   "outputs": [],
   "source": [
    "# Alam Sutera and Gading Serpong is the most expensive area price\n",
    "# Pamulang and Setu is the cheapest area price"
   ]
  },
  {
   "cell_type": "markdown",
   "id": "0aeadf9a",
   "metadata": {},
   "source": [
    "## Rooms Vs Price"
   ]
  },
  {
   "cell_type": "code",
   "execution_count": 59,
   "id": "fb5b6887",
   "metadata": {},
   "outputs": [
    {
     "data": {
      "text/html": [
       "<div>\n",
       "<style scoped>\n",
       "    .dataframe tbody tr th:only-of-type {\n",
       "        vertical-align: middle;\n",
       "    }\n",
       "\n",
       "    .dataframe tbody tr th {\n",
       "        vertical-align: top;\n",
       "    }\n",
       "\n",
       "    .dataframe thead th {\n",
       "        text-align: right;\n",
       "    }\n",
       "</style>\n",
       "<table border=\"1\" class=\"dataframe\">\n",
       "  <thead>\n",
       "    <tr style=\"text-align: right;\">\n",
       "      <th></th>\n",
       "      <th>Rooms</th>\n",
       "      <th>Bedroom Price</th>\n",
       "    </tr>\n",
       "  </thead>\n",
       "  <tbody>\n",
       "    <tr>\n",
       "      <th>0</th>\n",
       "      <td>1.0</td>\n",
       "      <td>2184133160</td>\n",
       "    </tr>\n",
       "    <tr>\n",
       "      <th>1</th>\n",
       "      <td>2.0</td>\n",
       "      <td>1254437349</td>\n",
       "    </tr>\n",
       "    <tr>\n",
       "      <th>2</th>\n",
       "      <td>3.0</td>\n",
       "      <td>2037567060</td>\n",
       "    </tr>\n",
       "    <tr>\n",
       "      <th>3</th>\n",
       "      <td>4.0</td>\n",
       "      <td>3839991834</td>\n",
       "    </tr>\n",
       "    <tr>\n",
       "      <th>4</th>\n",
       "      <td>5.0</td>\n",
       "      <td>4968126387</td>\n",
       "    </tr>\n",
       "    <tr>\n",
       "      <th>5</th>\n",
       "      <td>6.0</td>\n",
       "      <td>6079385978</td>\n",
       "    </tr>\n",
       "    <tr>\n",
       "      <th>6</th>\n",
       "      <td>7.0</td>\n",
       "      <td>7102149457</td>\n",
       "    </tr>\n",
       "    <tr>\n",
       "      <th>7</th>\n",
       "      <td>8.0</td>\n",
       "      <td>8239282830</td>\n",
       "    </tr>\n",
       "    <tr>\n",
       "      <th>8</th>\n",
       "      <td>9.0</td>\n",
       "      <td>8172899999</td>\n",
       "    </tr>\n",
       "    <tr>\n",
       "      <th>9</th>\n",
       "      <td>10.0</td>\n",
       "      <td>5702072916</td>\n",
       "    </tr>\n",
       "  </tbody>\n",
       "</table>\n",
       "</div>"
      ],
      "text/plain": [
       "   Rooms  Bedroom Price\n",
       "0    1.0     2184133160\n",
       "1    2.0     1254437349\n",
       "2    3.0     2037567060\n",
       "3    4.0     3839991834\n",
       "4    5.0     4968126387\n",
       "5    6.0     6079385978\n",
       "6    7.0     7102149457\n",
       "7    8.0     8239282830\n",
       "8    9.0     8172899999\n",
       "9   10.0     5702072916"
      ]
     },
     "execution_count": 59,
     "metadata": {},
     "output_type": "execute_result"
    }
   ],
   "source": [
    "bedroom = df2.groupby('Bedroom')['Price'].mean()\n",
    "bedroom = pd.DataFrame(bedroom).reset_index()\n",
    "column_name3 = ['Rooms', 'Bedroom Price']\n",
    "bedroom.columns = column_name3\n",
    "bedroom = bedroom.sort_values('Rooms', ascending=True)\n",
    "bedroom['Bedroom Price'] = bedroom['Bedroom Price'].astype('int64')\n",
    "bedroom"
   ]
  },
  {
   "cell_type": "code",
   "execution_count": 60,
   "id": "b829b1f4",
   "metadata": {},
   "outputs": [
    {
     "data": {
      "text/html": [
       "<div>\n",
       "<style scoped>\n",
       "    .dataframe tbody tr th:only-of-type {\n",
       "        vertical-align: middle;\n",
       "    }\n",
       "\n",
       "    .dataframe tbody tr th {\n",
       "        vertical-align: top;\n",
       "    }\n",
       "\n",
       "    .dataframe thead th {\n",
       "        text-align: right;\n",
       "    }\n",
       "</style>\n",
       "<table border=\"1\" class=\"dataframe\">\n",
       "  <thead>\n",
       "    <tr style=\"text-align: right;\">\n",
       "      <th></th>\n",
       "      <th>Rooms</th>\n",
       "      <th>Bathroom Price</th>\n",
       "    </tr>\n",
       "  </thead>\n",
       "  <tbody>\n",
       "    <tr>\n",
       "      <th>0</th>\n",
       "      <td>1.0</td>\n",
       "      <td>1137885474</td>\n",
       "    </tr>\n",
       "    <tr>\n",
       "      <th>1</th>\n",
       "      <td>2.0</td>\n",
       "      <td>1740292027</td>\n",
       "    </tr>\n",
       "    <tr>\n",
       "      <th>2</th>\n",
       "      <td>3.0</td>\n",
       "      <td>3281203451</td>\n",
       "    </tr>\n",
       "    <tr>\n",
       "      <th>3</th>\n",
       "      <td>4.0</td>\n",
       "      <td>4626063736</td>\n",
       "    </tr>\n",
       "    <tr>\n",
       "      <th>4</th>\n",
       "      <td>5.0</td>\n",
       "      <td>6520363564</td>\n",
       "    </tr>\n",
       "    <tr>\n",
       "      <th>5</th>\n",
       "      <td>6.0</td>\n",
       "      <td>7501054595</td>\n",
       "    </tr>\n",
       "    <tr>\n",
       "      <th>6</th>\n",
       "      <td>7.0</td>\n",
       "      <td>8388065009</td>\n",
       "    </tr>\n",
       "    <tr>\n",
       "      <th>7</th>\n",
       "      <td>8.0</td>\n",
       "      <td>9144989166</td>\n",
       "    </tr>\n",
       "    <tr>\n",
       "      <th>8</th>\n",
       "      <td>9.0</td>\n",
       "      <td>7386409200</td>\n",
       "    </tr>\n",
       "    <tr>\n",
       "      <th>9</th>\n",
       "      <td>10.0</td>\n",
       "      <td>4789351851</td>\n",
       "    </tr>\n",
       "  </tbody>\n",
       "</table>\n",
       "</div>"
      ],
      "text/plain": [
       "   Rooms  Bathroom Price\n",
       "0    1.0      1137885474\n",
       "1    2.0      1740292027\n",
       "2    3.0      3281203451\n",
       "3    4.0      4626063736\n",
       "4    5.0      6520363564\n",
       "5    6.0      7501054595\n",
       "6    7.0      8388065009\n",
       "7    8.0      9144989166\n",
       "8    9.0      7386409200\n",
       "9   10.0      4789351851"
      ]
     },
     "execution_count": 60,
     "metadata": {},
     "output_type": "execute_result"
    }
   ],
   "source": [
    "bathroom = df2.groupby('Bathroom')['Price'].mean()\n",
    "bathroom = pd.DataFrame(bathroom).reset_index()\n",
    "column_name4 = ['Rooms', 'Bathroom Price']\n",
    "bathroom.columns = column_name4\n",
    "bathroom = bathroom.sort_values('Rooms', ascending=True)\n",
    "bathroom['Bathroom Price'] = bathroom['Bathroom Price'].astype('int64')\n",
    "bathroom"
   ]
  },
  {
   "cell_type": "code",
   "execution_count": 61,
   "id": "5545030c",
   "metadata": {},
   "outputs": [
    {
     "data": {
      "text/html": [
       "<div>\n",
       "<style scoped>\n",
       "    .dataframe tbody tr th:only-of-type {\n",
       "        vertical-align: middle;\n",
       "    }\n",
       "\n",
       "    .dataframe tbody tr th {\n",
       "        vertical-align: top;\n",
       "    }\n",
       "\n",
       "    .dataframe thead th {\n",
       "        text-align: right;\n",
       "    }\n",
       "</style>\n",
       "<table border=\"1\" class=\"dataframe\">\n",
       "  <thead>\n",
       "    <tr style=\"text-align: right;\">\n",
       "      <th></th>\n",
       "      <th>Rooms</th>\n",
       "      <th>Bedroom Price</th>\n",
       "      <th>Bathroom Price</th>\n",
       "    </tr>\n",
       "  </thead>\n",
       "  <tbody>\n",
       "    <tr>\n",
       "      <th>0</th>\n",
       "      <td>1.0</td>\n",
       "      <td>2184133160</td>\n",
       "      <td>1137885474</td>\n",
       "    </tr>\n",
       "    <tr>\n",
       "      <th>1</th>\n",
       "      <td>2.0</td>\n",
       "      <td>1254437349</td>\n",
       "      <td>1740292027</td>\n",
       "    </tr>\n",
       "    <tr>\n",
       "      <th>2</th>\n",
       "      <td>3.0</td>\n",
       "      <td>2037567060</td>\n",
       "      <td>3281203451</td>\n",
       "    </tr>\n",
       "    <tr>\n",
       "      <th>3</th>\n",
       "      <td>4.0</td>\n",
       "      <td>3839991834</td>\n",
       "      <td>4626063736</td>\n",
       "    </tr>\n",
       "    <tr>\n",
       "      <th>4</th>\n",
       "      <td>5.0</td>\n",
       "      <td>4968126387</td>\n",
       "      <td>6520363564</td>\n",
       "    </tr>\n",
       "    <tr>\n",
       "      <th>5</th>\n",
       "      <td>6.0</td>\n",
       "      <td>6079385978</td>\n",
       "      <td>7501054595</td>\n",
       "    </tr>\n",
       "    <tr>\n",
       "      <th>6</th>\n",
       "      <td>7.0</td>\n",
       "      <td>7102149457</td>\n",
       "      <td>8388065009</td>\n",
       "    </tr>\n",
       "    <tr>\n",
       "      <th>7</th>\n",
       "      <td>8.0</td>\n",
       "      <td>8239282830</td>\n",
       "      <td>9144989166</td>\n",
       "    </tr>\n",
       "    <tr>\n",
       "      <th>8</th>\n",
       "      <td>9.0</td>\n",
       "      <td>8172899999</td>\n",
       "      <td>7386409200</td>\n",
       "    </tr>\n",
       "    <tr>\n",
       "      <th>9</th>\n",
       "      <td>10.0</td>\n",
       "      <td>5702072916</td>\n",
       "      <td>4789351851</td>\n",
       "    </tr>\n",
       "  </tbody>\n",
       "</table>\n",
       "</div>"
      ],
      "text/plain": [
       "   Rooms  Bedroom Price  Bathroom Price\n",
       "0    1.0     2184133160      1137885474\n",
       "1    2.0     1254437349      1740292027\n",
       "2    3.0     2037567060      3281203451\n",
       "3    4.0     3839991834      4626063736\n",
       "4    5.0     4968126387      6520363564\n",
       "5    6.0     6079385978      7501054595\n",
       "6    7.0     7102149457      8388065009\n",
       "7    8.0     8239282830      9144989166\n",
       "8    9.0     8172899999      7386409200\n",
       "9   10.0     5702072916      4789351851"
      ]
     },
     "execution_count": 61,
     "metadata": {},
     "output_type": "execute_result"
    }
   ],
   "source": [
    "rooms_merge = pd.merge(bedroom, bathroom, how='left', on='Rooms')\n",
    "rooms_merge"
   ]
  },
  {
   "cell_type": "code",
   "execution_count": 62,
   "id": "15b11896",
   "metadata": {},
   "outputs": [
    {
     "data": {
      "text/plain": [
       "<Figure size 1000x700 with 0 Axes>"
      ]
     },
     "metadata": {},
     "output_type": "display_data"
    },
    {
     "data": {
      "image/png": "[encoded data removed]",
      "text/plain": [
       "<Figure size 640x480 with 1 Axes>"
      ]
     },
     "metadata": {},
     "output_type": "display_data"
    }
   ],
   "source": [
    "plt.figure(figsize=(10,7))\n",
    "rooms_merge.plot(x='Rooms', y=['Bedroom Price', 'Bathroom Price'],\n",
    "                 marker='o', linestyle='-')\n",
    "\n",
    "plt.show()"
   ]
  },
  {
   "cell_type": "code",
   "execution_count": 63,
   "id": "9bc06fc6",
   "metadata": {},
   "outputs": [],
   "source": [
    "## The more rooms the more expensive\n",
    "## It's drop on 9-10 rooms probably cause of the outlier that we remove earlier"
   ]
  },
  {
   "cell_type": "markdown",
   "id": "420f0e7a",
   "metadata": {},
   "source": [
    "## Floor Area Vs Price"
   ]
  },
  {
   "cell_type": "code",
   "execution_count": 64,
   "id": "29a48860",
   "metadata": {},
   "outputs": [
    {
     "data": {
      "image/png": "[encoded data removed]",
      "text/plain": [
       "<Figure size 640x480 with 1 Axes>"
      ]
     },
     "metadata": {},
     "output_type": "display_data"
    }
   ],
   "source": [
    "sns.scatterplot(data = df2, x='Floor_Area(m2)', y='Price')\n",
    "\n",
    "plt.xlabel('Floor Area')\n",
    "plt.ylabel('Price')\n",
    "plt.title('Floor Area Vs Price')\n",
    "\n",
    "plt.show()"
   ]
  },
  {
   "cell_type": "code",
   "execution_count": 65,
   "id": "667693a1",
   "metadata": {},
   "outputs": [],
   "source": [
    "# It's make a positive line with some spread"
   ]
  },
  {
   "cell_type": "markdown",
   "id": "f8dd341b",
   "metadata": {},
   "source": [
    "# Conclusion"
   ]
  },
  {
   "cell_type": "markdown",
   "id": "61818b40",
   "metadata": {},
   "source": [
    "1. Bintaro is region that sell most house\n",
    "<br>\n",
    "2. Alam Sutera is the most expensive region while Setu & Pamulang is the cheapest\n",
    "<br>\n",
    "3. Alam Sutera and Gading Serpong is the most expensive area price\n",
    "<br>\n",
    "4. Pamulang and Setu is the cheapest area price\n",
    "<br>\n",
    "5. The more rooms the more expensive\n",
    "<br>\n",
    "6. The more area the more expensive"
   ]
  }
 ],
 "metadata": {
  "kernelspec": {
   "display_name": "Python 3 (ipykernel)",
   "language": "python",
   "name": "python3"
  },
  "language_info": {
   "codemirror_mode": {
    "name": "ipython",
    "version": 3
   },
   "file_extension": ".py",
   "mimetype": "text/x-python",
   "name": "python",
   "nbconvert_exporter": "python",
   "pygments_lexer": "ipython3",
   "version": "3.9.13"
  }
 },
 "nbformat": 4,
 "nbformat_minor": 5
}
